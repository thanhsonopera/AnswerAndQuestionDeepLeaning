{
 "cells": [
  {
   "cell_type": "code",
   "execution_count": 1,
   "metadata": {},
   "outputs": [
    {
     "name": "stderr",
     "output_type": "stream",
     "text": [
      "e:\\Question Answering\\venv\\lib\\site-packages\\tqdm\\auto.py:21: TqdmWarning: IProgress not found. Please update jupyter and ipywidgets. See https://ipywidgets.readthedocs.io/en/stable/user_install.html\n",
      "  from .autonotebook import tqdm as notebook_tqdm\n"
     ]
    }
   ],
   "source": [
    "from datasets import load_from_disk"
   ]
  },
  {
   "cell_type": "code",
   "execution_count": 2,
   "metadata": {},
   "outputs": [],
   "source": [
    "babi_dataset = load_from_disk('E:/Question Answering/data/')"
   ]
  },
  {
   "cell_type": "code",
   "execution_count": 3,
   "metadata": {},
   "outputs": [
    {
     "data": {
      "text/plain": [
       "{'story': {'answer': ['', '', 'office'],\n",
       "  'id': ['1', '2', '3'],\n",
       "  'supporting_ids': [[], [], ['1']],\n",
       "  'text': ['The office is north of the kitchen.',\n",
       "   'The garden is south of the kitchen.',\n",
       "   'What is north of the kitchen?'],\n",
       "  'type': [0, 0, 1]}}"
      ]
     },
     "execution_count": 3,
     "metadata": {},
     "output_type": "execute_result"
    }
   ],
   "source": [
    "babi_dataset['train'][0]"
   ]
  },
  {
   "cell_type": "markdown",
   "metadata": {},
   "source": [
    "### Add dữ liệu story.type của babi_dataset vào trong Set"
   ]
  },
  {
   "cell_type": "code",
   "execution_count": 4,
   "metadata": {},
   "outputs": [],
   "source": [
    "type_set = set()\n",
    "for story in babi_dataset['train']:\n",
    "    if str(story['story']['type'] )not in type_set:\n",
    "        type_set.add(str(story['story']['type'] ))"
   ]
  },
  {
   "cell_type": "code",
   "execution_count": 5,
   "metadata": {},
   "outputs": [
    {
     "data": {
      "text/plain": [
       "{'[0, 0, 1]'}"
      ]
     },
     "execution_count": 5,
     "metadata": {},
     "output_type": "execute_result"
    }
   ],
   "source": [
    "type_set"
   ]
  },
  {
   "cell_type": "markdown",
   "metadata": {},
   "source": [
    "### Chuyển đổi format của babi_dataset từ {story : {key1 : value, key1 : value}} về {story.key : value}"
   ]
  },
  {
   "cell_type": "code",
   "execution_count": 6,
   "metadata": {},
   "outputs": [],
   "source": [
    "flattened_babi = babi_dataset.flatten()"
   ]
  },
  {
   "cell_type": "code",
   "execution_count": 7,
   "metadata": {},
   "outputs": [
    {
     "data": {
      "text/plain": [
       "DatasetDict({\n",
       "    train: Dataset({\n",
       "        features: ['story.answer', 'story.id', 'story.supporting_ids', 'story.text', 'story.type'],\n",
       "        num_rows: 1000\n",
       "    })\n",
       "    test: Dataset({\n",
       "        features: ['story.answer', 'story.id', 'story.supporting_ids', 'story.text', 'story.type'],\n",
       "        num_rows: 1000\n",
       "    })\n",
       "})"
      ]
     },
     "execution_count": 7,
     "metadata": {},
     "output_type": "execute_result"
    }
   ],
   "source": [
    "flattened_babi"
   ]
  },
  {
   "cell_type": "code",
   "execution_count": 8,
   "metadata": {},
   "outputs": [
    {
     "data": {
      "text/plain": [
       "{'story.answer': ['', '', 'office'],\n",
       " 'story.id': ['1', '2', '3'],\n",
       " 'story.supporting_ids': [[], [], ['1']],\n",
       " 'story.text': ['The office is north of the kitchen.',\n",
       "  'The garden is south of the kitchen.',\n",
       "  'What is north of the kitchen?'],\n",
       " 'story.type': [0, 0, 1]}"
      ]
     },
     "execution_count": 8,
     "metadata": {},
     "output_type": "execute_result"
    }
   ],
   "source": [
    "next(iter(flattened_babi['train']))"
   ]
  },
  {
   "cell_type": "code",
   "execution_count": 9,
   "metadata": {},
   "outputs": [],
   "source": [
    "def get_question_and_facts(story):\n",
    "    dic = {}\n",
    "    dic['question'] = story['story.text'][2]\n",
    "    dic['sentences'] = ' '.join([story['story.text'][0], story['story.text'][1]])\n",
    "    dic['answer'] = story['story.answer'][2]\n",
    "    return dic"
   ]
  },
  {
   "cell_type": "code",
   "execution_count": 10,
   "metadata": {},
   "outputs": [],
   "source": [
    "processed = flattened_babi.map(get_question_and_facts)"
   ]
  },
  {
   "cell_type": "markdown",
   "metadata": {},
   "source": [
    "### Train và Test có khá Same Distribute"
   ]
  },
  {
   "cell_type": "code",
   "execution_count": 11,
   "metadata": {},
   "outputs": [
    {
     "data": {
      "text/plain": [
       "{'story.answer': ['', '', 'bedroom'],\n",
       " 'story.id': ['1', '2', '3'],\n",
       " 'story.supporting_ids': [[], [], ['2']],\n",
       " 'story.text': ['The garden is north of the office.',\n",
       "  'The bedroom is north of the garden.',\n",
       "  'What is north of the garden?'],\n",
       " 'story.type': [0, 0, 1],\n",
       " 'question': 'What is north of the garden?',\n",
       " 'sentences': 'The garden is north of the office. The bedroom is north of the garden.',\n",
       " 'answer': 'bedroom'}"
      ]
     },
     "execution_count": 11,
     "metadata": {},
     "output_type": "execute_result"
    }
   ],
   "source": [
    "processed['train'][2]"
   ]
  },
  {
   "cell_type": "code",
   "execution_count": 12,
   "metadata": {},
   "outputs": [
    {
     "data": {
      "text/plain": [
       "{'story.answer': ['', '', 'bathroom'],\n",
       " 'story.id': ['1', '2', '3'],\n",
       " 'story.supporting_ids': [[], [], ['1']],\n",
       " 'story.text': ['The bathroom is north of the garden.',\n",
       "  'The hallway is north of the bathroom.',\n",
       "  'What is north of the garden?'],\n",
       " 'story.type': [0, 0, 1],\n",
       " 'question': 'What is north of the garden?',\n",
       " 'sentences': 'The bathroom is north of the garden. The hallway is north of the bathroom.',\n",
       " 'answer': 'bathroom'}"
      ]
     },
     "execution_count": 12,
     "metadata": {},
     "output_type": "execute_result"
    }
   ],
   "source": [
    "processed['test'][2]"
   ]
  },
  {
   "cell_type": "markdown",
   "metadata": {},
   "source": [
    "### Tìm vị trí đầu tiên của Answer trong Sentences"
   ]
  },
  {
   "cell_type": "code",
   "execution_count": 13,
   "metadata": {},
   "outputs": [],
   "source": [
    "def get_start_end_idx(story):\n",
    "    str_idx = story['sentences'].find(story['answer'])\n",
    "    end_idx = str_idx + len(story['answer'])\n",
    "    return {'str_idx':str_idx,\n",
    "          'end_idx': end_idx}"
   ]
  },
  {
   "cell_type": "code",
   "execution_count": 14,
   "metadata": {},
   "outputs": [
    {
     "data": {
      "text/plain": [
       "{'str_idx': 39, 'end_idx': 46}"
      ]
     },
     "execution_count": 14,
     "metadata": {},
     "output_type": "execute_result"
    }
   ],
   "source": [
    "get_start_end_idx(processed['train'][2])"
   ]
  },
  {
   "cell_type": "code",
   "execution_count": 15,
   "metadata": {},
   "outputs": [],
   "source": [
    "processed = processed.map(get_start_end_idx)"
   ]
  },
  {
   "cell_type": "code",
   "execution_count": 16,
   "metadata": {},
   "outputs": [
    {
     "name": "stdout",
     "output_type": "stream",
     "text": [
      "{'story.answer': ['', '', 'garden'], 'story.id': ['1', '2', '3'], 'story.supporting_ids': [[], [], ['2']], 'story.text': ['The hallway is south of the garden.', 'The garden is south of the bedroom.', 'What is south of the bedroom?'], 'story.type': [0, 0, 1], 'question': 'What is south of the bedroom?', 'sentences': 'The hallway is south of the garden. The garden is south of the bedroom.', 'answer': 'garden', 'str_idx': 28, 'end_idx': 34}\n",
      "answer: garden\n"
     ]
    }
   ],
   "source": [
    "num = 187\n",
    "print(processed['test'][num])\n",
    "start_idx = processed['test'][num]['str_idx']\n",
    "end_idx = processed['test'][num]['end_idx']\n",
    "print('answer:', processed['test'][num]['sentences'][start_idx:end_idx])"
   ]
  },
  {
   "cell_type": "code",
   "execution_count": 71,
   "metadata": {},
   "outputs": [],
   "source": [
    "from transformers import DistilBertTokenizerFast\n",
    "tokenizer = DistilBertTokenizerFast.from_pretrained('E:/Question Answering/tokenizer')"
   ]
  },
  {
   "cell_type": "code",
   "execution_count": 18,
   "metadata": {},
   "outputs": [
    {
     "data": {
      "text/plain": [
       "512"
      ]
     },
     "execution_count": 18,
     "metadata": {},
     "output_type": "execute_result"
    }
   ],
   "source": [
    "tokenizer.model_max_length"
   ]
  },
  {
   "cell_type": "markdown",
   "metadata": {},
   "source": [
    "### Chèn padding và loại bỏ ký tự thừa nếu length khác 512"
   ]
  },
  {
   "cell_type": "code",
   "execution_count": 72,
   "metadata": {},
   "outputs": [],
   "source": [
    "def tokenize_align(example):\n",
    "    encoding = tokenizer(example['sentences'], example['question'], truncation=True, padding=True, max_length=tokenizer.model_max_length)\n",
    "    start_positions = encoding.char_to_token(example['str_idx'])\n",
    "    end_positions = encoding.char_to_token(example['end_idx']-1)\n",
    "    if start_positions is None:\n",
    "        start_positions = tokenizer.model_max_length\n",
    "    if end_positions is None:\n",
    "        end_positions = tokenizer.model_max_length\n",
    "    return {'input_ids': encoding['input_ids'],\n",
    "          'attention_mask': encoding['attention_mask'],\n",
    "          'start_positions': start_positions,\n",
    "          'end_positions': end_positions}"
   ]
  },
  {
   "cell_type": "code",
   "execution_count": 73,
   "metadata": {},
   "outputs": [],
   "source": [
    "qa_dataset = processed.map(tokenize_align)"
   ]
  },
  {
   "cell_type": "code",
   "execution_count": 74,
   "metadata": {},
   "outputs": [],
   "source": [
    "qa_dataset = qa_dataset.remove_columns(['story.answer', 'story.id', 'story.supporting_ids', 'story.text', 'story.type'])"
   ]
  },
  {
   "cell_type": "markdown",
   "metadata": {},
   "source": [
    "### input_ids : Các Từ trong question và sentences convert sang one-hot"
   ]
  },
  {
   "cell_type": "markdown",
   "metadata": {},
   "source": [
    "### 101 là bắt đầu câu sentences, 102 là bắt đầu câu question, 1012 là dấu '.' , 1029 là dấu '?'"
   ]
  },
  {
   "cell_type": "markdown",
   "metadata": {},
   "source": [
    "### attention_mask chú ý đầu vào nên bỏ qua ví dụ như padding thừa sẽ ký hiệu là 0 "
   ]
  },
  {
   "cell_type": "markdown",
   "metadata": {},
   "source": [
    "### start_positions và end_positions ví trí answer trong sentences -> Hình như vị trí Ouptut"
   ]
  },
  {
   "cell_type": "code",
   "execution_count": 75,
   "metadata": {},
   "outputs": [
    {
     "data": {
      "text/plain": [
       "{'question': 'What is the bedroom east of?',\n",
       " 'sentences': 'The bedroom is west of the kitchen. The office is west of the bedroom.',\n",
       " 'answer': 'office',\n",
       " 'str_idx': 40,\n",
       " 'end_idx': 46,\n",
       " 'input_ids': [101,\n",
       "  1996,\n",
       "  5010,\n",
       "  2003,\n",
       "  2225,\n",
       "  1997,\n",
       "  1996,\n",
       "  3829,\n",
       "  1012,\n",
       "  1996,\n",
       "  2436,\n",
       "  2003,\n",
       "  2225,\n",
       "  1997,\n",
       "  1996,\n",
       "  5010,\n",
       "  1012,\n",
       "  102,\n",
       "  2054,\n",
       "  2003,\n",
       "  1996,\n",
       "  5010,\n",
       "  2264,\n",
       "  1997,\n",
       "  1029,\n",
       "  102],\n",
       " 'attention_mask': [1,\n",
       "  1,\n",
       "  1,\n",
       "  1,\n",
       "  1,\n",
       "  1,\n",
       "  1,\n",
       "  1,\n",
       "  1,\n",
       "  1,\n",
       "  1,\n",
       "  1,\n",
       "  1,\n",
       "  1,\n",
       "  1,\n",
       "  1,\n",
       "  1,\n",
       "  1,\n",
       "  1,\n",
       "  1,\n",
       "  1,\n",
       "  1,\n",
       "  1,\n",
       "  1,\n",
       "  1,\n",
       "  1],\n",
       " 'start_positions': 10,\n",
       " 'end_positions': 10}"
      ]
     },
     "execution_count": 75,
     "metadata": {},
     "output_type": "execute_result"
    }
   ],
   "source": [
    "qa_dataset['train'][15]"
   ]
  },
  {
   "cell_type": "markdown",
   "metadata": {},
   "source": [
    "## Train "
   ]
  },
  {
   "cell_type": "code",
   "execution_count": 76,
   "metadata": {},
   "outputs": [],
   "source": [
    "train_ds = qa_dataset['train']\n",
    "test_ds = qa_dataset['test']"
   ]
  },
  {
   "cell_type": "code",
   "execution_count": 24,
   "metadata": {},
   "outputs": [
    {
     "name": "stdout",
     "output_type": "stream",
     "text": [
      "WARNING:tensorflow:From e:\\Question Answering\\venv\\lib\\site-packages\\tf_keras\\src\\losses.py:2976: The name tf.losses.sparse_softmax_cross_entropy is deprecated. Please use tf.compat.v1.losses.sparse_softmax_cross_entropy instead.\n",
      "\n"
     ]
    }
   ],
   "source": [
    "from transformers import DistilBertConfig, TrainingArguments, Trainer, DistilBertForQuestionAnswering, TFDistilBertForQuestionAnswering"
   ]
  },
  {
   "cell_type": "code",
   "execution_count": 25,
   "metadata": {},
   "outputs": [
    {
     "name": "stdout",
     "output_type": "stream",
     "text": [
      "WARNING:tensorflow:From e:\\Question Answering\\venv\\lib\\site-packages\\tf_keras\\src\\backend.py:873: The name tf.get_default_graph is deprecated. Please use tf.compat.v1.get_default_graph instead.\n",
      "\n"
     ]
    },
    {
     "name": "stderr",
     "output_type": "stream",
     "text": [
      "All model checkpoint layers were used when initializing TFDistilBertForQuestionAnswering.\n",
      "\n",
      "All the layers of TFDistilBertForQuestionAnswering were initialized from the model checkpoint at E:/Question Answering/model/.\n",
      "If your task is similar to the task the model of the checkpoint was trained on, you can already use TFDistilBertForQuestionAnswering for predictions without further training.\n"
     ]
    }
   ],
   "source": [
    "model = TFDistilBertForQuestionAnswering.from_pretrained(\"E:/Question Answering/model/\", return_dict=False)"
   ]
  },
  {
   "cell_type": "code",
   "execution_count": 26,
   "metadata": {},
   "outputs": [
    {
     "name": "stdout",
     "output_type": "stream",
     "text": [
      "Model: \"tf_distil_bert_for_question_answering\"\n",
      "_________________________________________________________________\n",
      " Layer (type)                Output Shape              Param #   \n",
      "=================================================================\n",
      " distilbert (TFDistilBertMa  multiple                  65190912  \n",
      " inLayer)                                                        \n",
      "                                                                 \n",
      " qa_outputs (Dense)          multiple                  1538      \n",
      "                                                                 \n",
      " dropout_19 (Dropout)        multiple                  0 (unused)\n",
      "                                                                 \n",
      "=================================================================\n",
      "Total params: 65192450 (248.69 MB)\n",
      "Trainable params: 65192450 (248.69 MB)\n",
      "Non-trainable params: 0 (0.00 Byte)\n",
      "_________________________________________________________________\n"
     ]
    }
   ],
   "source": [
    "model.summary()"
   ]
  },
  {
   "cell_type": "code",
   "execution_count": 27,
   "metadata": {},
   "outputs": [],
   "source": [
    "import tensorflow as tf\n",
    "\n",
    "columns_to_return = ['input_ids','attention_mask', 'start_positions', 'end_positions']\n",
    "\n",
    "train_ds.set_format(type='tf', columns=columns_to_return)\n",
    "# Input\n",
    "train_features = {x: train_ds[x] for x in ['input_ids', 'attention_mask']}\n",
    "# Output\n",
    "train_labels = {\"start_positions\": tf.reshape(train_ds['start_positions'], shape=[-1,1]),\n",
    "                'end_positions': tf.reshape(train_ds['end_positions'], shape=[-1,1])}\n",
    "\n",
    "# Chia dữ liệu thành các batch nhỏ\n",
    "train_tfdataset = tf.data.Dataset.from_tensor_slices((train_features, train_labels)).batch(8)"
   ]
  },
  {
   "cell_type": "code",
   "execution_count": 28,
   "metadata": {},
   "outputs": [
    {
     "data": {
      "text/plain": [
       "<tf.Tensor: shape=(1000, 26), dtype=int64, numpy=\n",
       "array([[ 101, 1996, 2436, ..., 3829, 1029,  102],\n",
       "       [ 101, 1996, 3829, ..., 1997, 1029,  102],\n",
       "       [ 101, 1996, 3871, ..., 3871, 1029,  102],\n",
       "       ...,\n",
       "       [ 101, 1996, 6797, ..., 5010, 1029,  102],\n",
       "       [ 101, 1996, 6797, ..., 5723, 1029,  102],\n",
       "       [ 101, 1996, 3829, ..., 1997, 1029,  102]], dtype=int64)>"
      ]
     },
     "execution_count": 28,
     "metadata": {},
     "output_type": "execute_result"
    }
   ],
   "source": [
    "train_features['input_ids']"
   ]
  },
  {
   "cell_type": "code",
   "execution_count": 29,
   "metadata": {},
   "outputs": [
    {
     "data": {
      "text/plain": [
       "<tf.Tensor: shape=(1000, 1), dtype=int64, numpy=\n",
       "array([[ 2],\n",
       "       [ 2],\n",
       "       [10],\n",
       "       [ 2],\n",
       "       [10],\n",
       "       [ 2],\n",
       "       [ 2],\n",
       "       [10],\n",
       "       [ 2],\n",
       "       [10],\n",
       "       [ 2],\n",
       "       [ 2],\n",
       "       [10],\n",
       "       [ 7],\n",
       "       [ 2],\n",
       "       [10],\n",
       "       [ 2],\n",
       "       [ 7],\n",
       "       [10],\n",
       "       [ 2],\n",
       "       [ 2],\n",
       "       [10],\n",
       "       [ 2],\n",
       "       [ 2],\n",
       "       [ 2],\n",
       "       [ 7],\n",
       "       [ 2],\n",
       "       [10],\n",
       "       [ 2],\n",
       "       [ 2],\n",
       "       [ 7],\n",
       "       [ 2],\n",
       "       [10],\n",
       "       [ 2],\n",
       "       [ 2],\n",
       "       [ 2],\n",
       "       [10],\n",
       "       [ 7],\n",
       "       [ 2],\n",
       "       [ 2],\n",
       "       [ 2],\n",
       "       [ 2],\n",
       "       [10],\n",
       "       [ 2],\n",
       "       [10],\n",
       "       [ 2],\n",
       "       [ 2],\n",
       "       [ 2],\n",
       "       [ 2],\n",
       "       [10],\n",
       "       [ 2],\n",
       "       [ 2],\n",
       "       [10],\n",
       "       [ 7],\n",
       "       [10],\n",
       "       [ 2],\n",
       "       [ 2],\n",
       "       [ 2],\n",
       "       [ 2],\n",
       "       [ 7],\n",
       "       [ 2],\n",
       "       [ 2],\n",
       "       [ 7],\n",
       "       [ 2],\n",
       "       [ 2],\n",
       "       [ 7],\n",
       "       [10],\n",
       "       [ 7],\n",
       "       [ 7],\n",
       "       [ 2],\n",
       "       [10],\n",
       "       [10],\n",
       "       [ 2],\n",
       "       [ 2],\n",
       "       [ 2],\n",
       "       [ 2],\n",
       "       [ 2],\n",
       "       [ 2],\n",
       "       [ 2],\n",
       "       [10],\n",
       "       [ 2],\n",
       "       [10],\n",
       "       [ 2],\n",
       "       [ 2],\n",
       "       [ 2],\n",
       "       [ 7],\n",
       "       [ 2],\n",
       "       [10],\n",
       "       [ 7],\n",
       "       [ 7],\n",
       "       [ 7],\n",
       "       [ 2],\n",
       "       [10],\n",
       "       [ 2],\n",
       "       [ 2],\n",
       "       [ 2],\n",
       "       [ 2],\n",
       "       [10],\n",
       "       [ 2],\n",
       "       [10],\n",
       "       [ 2],\n",
       "       [ 7],\n",
       "       [ 2],\n",
       "       [10],\n",
       "       [10],\n",
       "       [10],\n",
       "       [ 2],\n",
       "       [ 7],\n",
       "       [ 2],\n",
       "       [ 2],\n",
       "       [ 2],\n",
       "       [10],\n",
       "       [10],\n",
       "       [ 2],\n",
       "       [ 2],\n",
       "       [ 2],\n",
       "       [ 2],\n",
       "       [ 2],\n",
       "       [10],\n",
       "       [ 2],\n",
       "       [10],\n",
       "       [ 7],\n",
       "       [ 7],\n",
       "       [10],\n",
       "       [10],\n",
       "       [10],\n",
       "       [10],\n",
       "       [ 2],\n",
       "       [10],\n",
       "       [ 2],\n",
       "       [ 2],\n",
       "       [ 2],\n",
       "       [10],\n",
       "       [10],\n",
       "       [ 2],\n",
       "       [10],\n",
       "       [ 2],\n",
       "       [ 2],\n",
       "       [ 7],\n",
       "       [ 2],\n",
       "       [ 2],\n",
       "       [ 2],\n",
       "       [ 2],\n",
       "       [10],\n",
       "       [ 2],\n",
       "       [ 7],\n",
       "       [ 2],\n",
       "       [10],\n",
       "       [10],\n",
       "       [10],\n",
       "       [ 2],\n",
       "       [10],\n",
       "       [ 2],\n",
       "       [ 2],\n",
       "       [10],\n",
       "       [ 2],\n",
       "       [10],\n",
       "       [ 2],\n",
       "       [ 7],\n",
       "       [10],\n",
       "       [ 2],\n",
       "       [ 7],\n",
       "       [ 7],\n",
       "       [ 7],\n",
       "       [ 7],\n",
       "       [10],\n",
       "       [ 2],\n",
       "       [ 2],\n",
       "       [10],\n",
       "       [ 2],\n",
       "       [ 7],\n",
       "       [ 2],\n",
       "       [ 2],\n",
       "       [ 2],\n",
       "       [ 7],\n",
       "       [ 2],\n",
       "       [10],\n",
       "       [ 2],\n",
       "       [ 2],\n",
       "       [ 2],\n",
       "       [10],\n",
       "       [10],\n",
       "       [ 2],\n",
       "       [ 2],\n",
       "       [ 7],\n",
       "       [ 2],\n",
       "       [10],\n",
       "       [10],\n",
       "       [10],\n",
       "       [ 2],\n",
       "       [ 2],\n",
       "       [10],\n",
       "       [10],\n",
       "       [10],\n",
       "       [ 2],\n",
       "       [ 2],\n",
       "       [ 2],\n",
       "       [10],\n",
       "       [10],\n",
       "       [ 2],\n",
       "       [ 2],\n",
       "       [ 2],\n",
       "       [ 2],\n",
       "       [ 2],\n",
       "       [ 2],\n",
       "       [ 2],\n",
       "       [ 7],\n",
       "       [ 2],\n",
       "       [ 2],\n",
       "       [ 7],\n",
       "       [ 2],\n",
       "       [ 2],\n",
       "       [ 2],\n",
       "       [ 2],\n",
       "       [ 2],\n",
       "       [ 2],\n",
       "       [ 2],\n",
       "       [ 2],\n",
       "       [ 2],\n",
       "       [ 2],\n",
       "       [ 2],\n",
       "       [10],\n",
       "       [ 2],\n",
       "       [10],\n",
       "       [ 7],\n",
       "       [ 2],\n",
       "       [10],\n",
       "       [ 2],\n",
       "       [ 2],\n",
       "       [ 2],\n",
       "       [10],\n",
       "       [ 2],\n",
       "       [ 2],\n",
       "       [10],\n",
       "       [10],\n",
       "       [ 7],\n",
       "       [ 2],\n",
       "       [10],\n",
       "       [ 2],\n",
       "       [ 7],\n",
       "       [ 2],\n",
       "       [10],\n",
       "       [ 2],\n",
       "       [ 2],\n",
       "       [10],\n",
       "       [ 2],\n",
       "       [10],\n",
       "       [10],\n",
       "       [10],\n",
       "       [ 2],\n",
       "       [10],\n",
       "       [ 2],\n",
       "       [ 2],\n",
       "       [ 2],\n",
       "       [ 2],\n",
       "       [10],\n",
       "       [10],\n",
       "       [10],\n",
       "       [ 2],\n",
       "       [10],\n",
       "       [ 2],\n",
       "       [10],\n",
       "       [10],\n",
       "       [ 2],\n",
       "       [ 2],\n",
       "       [ 2],\n",
       "       [ 2],\n",
       "       [ 2],\n",
       "       [ 2],\n",
       "       [ 2],\n",
       "       [ 7],\n",
       "       [ 7],\n",
       "       [ 2],\n",
       "       [10],\n",
       "       [ 2],\n",
       "       [ 2],\n",
       "       [ 2],\n",
       "       [ 7],\n",
       "       [ 7],\n",
       "       [10],\n",
       "       [ 2],\n",
       "       [ 2],\n",
       "       [10],\n",
       "       [ 2],\n",
       "       [ 2],\n",
       "       [ 2],\n",
       "       [ 2],\n",
       "       [10],\n",
       "       [ 7],\n",
       "       [10],\n",
       "       [ 7],\n",
       "       [10],\n",
       "       [ 7],\n",
       "       [ 2],\n",
       "       [ 2],\n",
       "       [ 7],\n",
       "       [10],\n",
       "       [10],\n",
       "       [ 2],\n",
       "       [10],\n",
       "       [ 2],\n",
       "       [10],\n",
       "       [10],\n",
       "       [ 7],\n",
       "       [ 2],\n",
       "       [10],\n",
       "       [10],\n",
       "       [ 2],\n",
       "       [ 7],\n",
       "       [ 7],\n",
       "       [10],\n",
       "       [10],\n",
       "       [ 2],\n",
       "       [10],\n",
       "       [ 2],\n",
       "       [ 2],\n",
       "       [10],\n",
       "       [10],\n",
       "       [ 2],\n",
       "       [10],\n",
       "       [ 2],\n",
       "       [10],\n",
       "       [ 2],\n",
       "       [ 2],\n",
       "       [ 2],\n",
       "       [ 2],\n",
       "       [10],\n",
       "       [ 2],\n",
       "       [ 2],\n",
       "       [10],\n",
       "       [ 7],\n",
       "       [ 2],\n",
       "       [10],\n",
       "       [10],\n",
       "       [ 2],\n",
       "       [ 2],\n",
       "       [ 2],\n",
       "       [ 2],\n",
       "       [ 2],\n",
       "       [10],\n",
       "       [ 2],\n",
       "       [ 2],\n",
       "       [ 2],\n",
       "       [ 2],\n",
       "       [ 2],\n",
       "       [ 2],\n",
       "       [ 7],\n",
       "       [ 2],\n",
       "       [10],\n",
       "       [ 2],\n",
       "       [ 2],\n",
       "       [10],\n",
       "       [ 2],\n",
       "       [ 2],\n",
       "       [ 2],\n",
       "       [10],\n",
       "       [ 2],\n",
       "       [10],\n",
       "       [ 2],\n",
       "       [ 7],\n",
       "       [ 2],\n",
       "       [ 2],\n",
       "       [10],\n",
       "       [10],\n",
       "       [10],\n",
       "       [ 2],\n",
       "       [ 2],\n",
       "       [ 2],\n",
       "       [10],\n",
       "       [10],\n",
       "       [ 2],\n",
       "       [ 2],\n",
       "       [ 2],\n",
       "       [10],\n",
       "       [ 2],\n",
       "       [10],\n",
       "       [ 7],\n",
       "       [10],\n",
       "       [10],\n",
       "       [ 2],\n",
       "       [ 2],\n",
       "       [10],\n",
       "       [ 2],\n",
       "       [ 2],\n",
       "       [10],\n",
       "       [ 2],\n",
       "       [ 2],\n",
       "       [10],\n",
       "       [10],\n",
       "       [ 2],\n",
       "       [ 2],\n",
       "       [ 2],\n",
       "       [10],\n",
       "       [10],\n",
       "       [ 2],\n",
       "       [ 2],\n",
       "       [10],\n",
       "       [ 2],\n",
       "       [ 2],\n",
       "       [10],\n",
       "       [ 7],\n",
       "       [ 2],\n",
       "       [10],\n",
       "       [ 7],\n",
       "       [ 2],\n",
       "       [ 2],\n",
       "       [ 2],\n",
       "       [ 2],\n",
       "       [ 2],\n",
       "       [ 2],\n",
       "       [ 2],\n",
       "       [ 2],\n",
       "       [ 2],\n",
       "       [10],\n",
       "       [ 7],\n",
       "       [ 2],\n",
       "       [ 2],\n",
       "       [ 2],\n",
       "       [ 2],\n",
       "       [10],\n",
       "       [ 2],\n",
       "       [ 2],\n",
       "       [ 7],\n",
       "       [ 2],\n",
       "       [ 2],\n",
       "       [10],\n",
       "       [ 2],\n",
       "       [ 2],\n",
       "       [ 2],\n",
       "       [10],\n",
       "       [10],\n",
       "       [10],\n",
       "       [ 2],\n",
       "       [10],\n",
       "       [10],\n",
       "       [10],\n",
       "       [10],\n",
       "       [10],\n",
       "       [ 2],\n",
       "       [10],\n",
       "       [10],\n",
       "       [ 7],\n",
       "       [ 2],\n",
       "       [ 2],\n",
       "       [ 2],\n",
       "       [ 2],\n",
       "       [ 2],\n",
       "       [10],\n",
       "       [ 2],\n",
       "       [ 2],\n",
       "       [ 2],\n",
       "       [10],\n",
       "       [ 7],\n",
       "       [ 2],\n",
       "       [ 7],\n",
       "       [ 7],\n",
       "       [ 2],\n",
       "       [10],\n",
       "       [ 2],\n",
       "       [ 2],\n",
       "       [ 2],\n",
       "       [10],\n",
       "       [ 7],\n",
       "       [ 2],\n",
       "       [ 2],\n",
       "       [ 2],\n",
       "       [ 7],\n",
       "       [ 2],\n",
       "       [ 2],\n",
       "       [ 2],\n",
       "       [ 2],\n",
       "       [10],\n",
       "       [ 2],\n",
       "       [10],\n",
       "       [ 2],\n",
       "       [ 2],\n",
       "       [ 2],\n",
       "       [10],\n",
       "       [10],\n",
       "       [10],\n",
       "       [10],\n",
       "       [10],\n",
       "       [ 2],\n",
       "       [10],\n",
       "       [10],\n",
       "       [ 2],\n",
       "       [10],\n",
       "       [ 2],\n",
       "       [ 2],\n",
       "       [ 2],\n",
       "       [ 2],\n",
       "       [ 2],\n",
       "       [10],\n",
       "       [ 2],\n",
       "       [10],\n",
       "       [ 7],\n",
       "       [ 2],\n",
       "       [ 2],\n",
       "       [ 2],\n",
       "       [ 2],\n",
       "       [ 2],\n",
       "       [ 2],\n",
       "       [10],\n",
       "       [ 2],\n",
       "       [10],\n",
       "       [10],\n",
       "       [ 2],\n",
       "       [ 2],\n",
       "       [ 2],\n",
       "       [ 2],\n",
       "       [ 2],\n",
       "       [ 2],\n",
       "       [ 2],\n",
       "       [ 7],\n",
       "       [ 2],\n",
       "       [ 2],\n",
       "       [10],\n",
       "       [ 2],\n",
       "       [10],\n",
       "       [10],\n",
       "       [ 2],\n",
       "       [10],\n",
       "       [ 2],\n",
       "       [10],\n",
       "       [10],\n",
       "       [10],\n",
       "       [ 2],\n",
       "       [ 2],\n",
       "       [10],\n",
       "       [ 7],\n",
       "       [10],\n",
       "       [ 2],\n",
       "       [10],\n",
       "       [10],\n",
       "       [ 7],\n",
       "       [ 2],\n",
       "       [ 2],\n",
       "       [ 2],\n",
       "       [10],\n",
       "       [ 2],\n",
       "       [ 2],\n",
       "       [10],\n",
       "       [ 7],\n",
       "       [ 2],\n",
       "       [ 2],\n",
       "       [10],\n",
       "       [ 7],\n",
       "       [10],\n",
       "       [10],\n",
       "       [10],\n",
       "       [10],\n",
       "       [ 2],\n",
       "       [ 7],\n",
       "       [10],\n",
       "       [ 2],\n",
       "       [ 2],\n",
       "       [ 2],\n",
       "       [ 2],\n",
       "       [ 2],\n",
       "       [ 2],\n",
       "       [10],\n",
       "       [ 2],\n",
       "       [10],\n",
       "       [ 2],\n",
       "       [ 2],\n",
       "       [ 2],\n",
       "       [ 2],\n",
       "       [10],\n",
       "       [10],\n",
       "       [ 2],\n",
       "       [10],\n",
       "       [10],\n",
       "       [10],\n",
       "       [10],\n",
       "       [ 2],\n",
       "       [10],\n",
       "       [ 2],\n",
       "       [ 2],\n",
       "       [ 2],\n",
       "       [10],\n",
       "       [ 2],\n",
       "       [10],\n",
       "       [10],\n",
       "       [ 2],\n",
       "       [10],\n",
       "       [ 7],\n",
       "       [ 7],\n",
       "       [ 2],\n",
       "       [ 2],\n",
       "       [ 2],\n",
       "       [ 2],\n",
       "       [ 2],\n",
       "       [ 2],\n",
       "       [10],\n",
       "       [10],\n",
       "       [ 2],\n",
       "       [10],\n",
       "       [ 2],\n",
       "       [ 2],\n",
       "       [10],\n",
       "       [10],\n",
       "       [ 2],\n",
       "       [ 2],\n",
       "       [10],\n",
       "       [ 2],\n",
       "       [ 2],\n",
       "       [ 2],\n",
       "       [ 2],\n",
       "       [ 7],\n",
       "       [ 2],\n",
       "       [ 7],\n",
       "       [ 7],\n",
       "       [ 2],\n",
       "       [ 2],\n",
       "       [ 2],\n",
       "       [10],\n",
       "       [10],\n",
       "       [ 2],\n",
       "       [10],\n",
       "       [ 7],\n",
       "       [ 2],\n",
       "       [10],\n",
       "       [ 2],\n",
       "       [ 2],\n",
       "       [ 2],\n",
       "       [ 2],\n",
       "       [10],\n",
       "       [ 2],\n",
       "       [ 7],\n",
       "       [10],\n",
       "       [10],\n",
       "       [ 2],\n",
       "       [ 2],\n",
       "       [10],\n",
       "       [10],\n",
       "       [10],\n",
       "       [ 2],\n",
       "       [ 7],\n",
       "       [ 2],\n",
       "       [ 2],\n",
       "       [ 2],\n",
       "       [ 2],\n",
       "       [10],\n",
       "       [10],\n",
       "       [10],\n",
       "       [ 2],\n",
       "       [10],\n",
       "       [ 7],\n",
       "       [ 7],\n",
       "       [ 2],\n",
       "       [ 2],\n",
       "       [ 2],\n",
       "       [10],\n",
       "       [ 2],\n",
       "       [ 2],\n",
       "       [ 2],\n",
       "       [10],\n",
       "       [ 2],\n",
       "       [10],\n",
       "       [10],\n",
       "       [ 2],\n",
       "       [ 2],\n",
       "       [10],\n",
       "       [10],\n",
       "       [ 2],\n",
       "       [ 7],\n",
       "       [10],\n",
       "       [ 2],\n",
       "       [ 7],\n",
       "       [ 7],\n",
       "       [ 2],\n",
       "       [ 2],\n",
       "       [ 2],\n",
       "       [ 2],\n",
       "       [10],\n",
       "       [ 2],\n",
       "       [ 2],\n",
       "       [10],\n",
       "       [ 2],\n",
       "       [ 2],\n",
       "       [ 2],\n",
       "       [ 2],\n",
       "       [10],\n",
       "       [ 2],\n",
       "       [ 7],\n",
       "       [ 2],\n",
       "       [10],\n",
       "       [ 7],\n",
       "       [ 2],\n",
       "       [ 2],\n",
       "       [10],\n",
       "       [ 7],\n",
       "       [ 2],\n",
       "       [10],\n",
       "       [10],\n",
       "       [10],\n",
       "       [ 2],\n",
       "       [ 2],\n",
       "       [10],\n",
       "       [ 2],\n",
       "       [ 2],\n",
       "       [ 2],\n",
       "       [ 2],\n",
       "       [10],\n",
       "       [ 2],\n",
       "       [ 2],\n",
       "       [ 7],\n",
       "       [ 2],\n",
       "       [ 7],\n",
       "       [10],\n",
       "       [ 2],\n",
       "       [ 2],\n",
       "       [ 2],\n",
       "       [10],\n",
       "       [ 2],\n",
       "       [10],\n",
       "       [10],\n",
       "       [10],\n",
       "       [ 2],\n",
       "       [10],\n",
       "       [10],\n",
       "       [ 2],\n",
       "       [10],\n",
       "       [ 2],\n",
       "       [10],\n",
       "       [10],\n",
       "       [ 2],\n",
       "       [ 2],\n",
       "       [10],\n",
       "       [ 2],\n",
       "       [10],\n",
       "       [ 7],\n",
       "       [ 2],\n",
       "       [10],\n",
       "       [ 2],\n",
       "       [10],\n",
       "       [ 2],\n",
       "       [ 7],\n",
       "       [ 2],\n",
       "       [ 7],\n",
       "       [ 2],\n",
       "       [10],\n",
       "       [10],\n",
       "       [ 2],\n",
       "       [ 2],\n",
       "       [ 2],\n",
       "       [10],\n",
       "       [ 7],\n",
       "       [10],\n",
       "       [ 7],\n",
       "       [10],\n",
       "       [10],\n",
       "       [ 2],\n",
       "       [ 2],\n",
       "       [ 7],\n",
       "       [10],\n",
       "       [10],\n",
       "       [ 2],\n",
       "       [ 2],\n",
       "       [ 2],\n",
       "       [ 7],\n",
       "       [ 2],\n",
       "       [ 2],\n",
       "       [ 2],\n",
       "       [ 2],\n",
       "       [ 2],\n",
       "       [ 7],\n",
       "       [10],\n",
       "       [10],\n",
       "       [ 2],\n",
       "       [ 2],\n",
       "       [ 7],\n",
       "       [ 2],\n",
       "       [ 2],\n",
       "       [ 2],\n",
       "       [10],\n",
       "       [10],\n",
       "       [ 7],\n",
       "       [ 2],\n",
       "       [ 2],\n",
       "       [ 2],\n",
       "       [ 7],\n",
       "       [ 2],\n",
       "       [ 7],\n",
       "       [ 2],\n",
       "       [10],\n",
       "       [10],\n",
       "       [ 7],\n",
       "       [ 2],\n",
       "       [ 2],\n",
       "       [ 7],\n",
       "       [ 7],\n",
       "       [10],\n",
       "       [10],\n",
       "       [10],\n",
       "       [ 2],\n",
       "       [ 2],\n",
       "       [10],\n",
       "       [ 2],\n",
       "       [ 2],\n",
       "       [ 2],\n",
       "       [ 7],\n",
       "       [ 2],\n",
       "       [10],\n",
       "       [ 2],\n",
       "       [ 2],\n",
       "       [10],\n",
       "       [10],\n",
       "       [ 2],\n",
       "       [10],\n",
       "       [ 2],\n",
       "       [ 2],\n",
       "       [ 2],\n",
       "       [ 2],\n",
       "       [ 2],\n",
       "       [ 2],\n",
       "       [10],\n",
       "       [ 2],\n",
       "       [10],\n",
       "       [ 2],\n",
       "       [ 2],\n",
       "       [10],\n",
       "       [ 7],\n",
       "       [10],\n",
       "       [ 2],\n",
       "       [ 7],\n",
       "       [10],\n",
       "       [10],\n",
       "       [10],\n",
       "       [10],\n",
       "       [10],\n",
       "       [10],\n",
       "       [ 2],\n",
       "       [ 2],\n",
       "       [ 2],\n",
       "       [ 2],\n",
       "       [ 2],\n",
       "       [ 2],\n",
       "       [ 2],\n",
       "       [10],\n",
       "       [ 2],\n",
       "       [ 7],\n",
       "       [10],\n",
       "       [ 2],\n",
       "       [10],\n",
       "       [10],\n",
       "       [ 2],\n",
       "       [ 2],\n",
       "       [ 2],\n",
       "       [ 2],\n",
       "       [ 2],\n",
       "       [ 2],\n",
       "       [ 2],\n",
       "       [10],\n",
       "       [ 2],\n",
       "       [10],\n",
       "       [ 2],\n",
       "       [ 2],\n",
       "       [ 2],\n",
       "       [ 2],\n",
       "       [ 2],\n",
       "       [10],\n",
       "       [ 2],\n",
       "       [10],\n",
       "       [ 7],\n",
       "       [10],\n",
       "       [ 2],\n",
       "       [ 2],\n",
       "       [ 2],\n",
       "       [10],\n",
       "       [ 2],\n",
       "       [ 2],\n",
       "       [ 2],\n",
       "       [ 2],\n",
       "       [10],\n",
       "       [ 2],\n",
       "       [ 2],\n",
       "       [ 2],\n",
       "       [ 2],\n",
       "       [10],\n",
       "       [ 2],\n",
       "       [10],\n",
       "       [ 2],\n",
       "       [10],\n",
       "       [ 2],\n",
       "       [ 2],\n",
       "       [ 2],\n",
       "       [ 2],\n",
       "       [ 2],\n",
       "       [ 2],\n",
       "       [10],\n",
       "       [ 2],\n",
       "       [ 2],\n",
       "       [10],\n",
       "       [ 2],\n",
       "       [10],\n",
       "       [ 2],\n",
       "       [ 2],\n",
       "       [ 2],\n",
       "       [ 2],\n",
       "       [ 2],\n",
       "       [ 2],\n",
       "       [ 7],\n",
       "       [ 2],\n",
       "       [ 2],\n",
       "       [ 2],\n",
       "       [ 2],\n",
       "       [ 2],\n",
       "       [ 2],\n",
       "       [ 2],\n",
       "       [ 2],\n",
       "       [ 2],\n",
       "       [ 2],\n",
       "       [ 2],\n",
       "       [ 2],\n",
       "       [10],\n",
       "       [ 2],\n",
       "       [10],\n",
       "       [10],\n",
       "       [ 2],\n",
       "       [ 2],\n",
       "       [ 2],\n",
       "       [ 2],\n",
       "       [ 2],\n",
       "       [ 2],\n",
       "       [10],\n",
       "       [ 2],\n",
       "       [ 2],\n",
       "       [ 2],\n",
       "       [ 7],\n",
       "       [ 2],\n",
       "       [10],\n",
       "       [ 2],\n",
       "       [ 2],\n",
       "       [ 7],\n",
       "       [ 2],\n",
       "       [10],\n",
       "       [10],\n",
       "       [10],\n",
       "       [ 2],\n",
       "       [ 2],\n",
       "       [ 2],\n",
       "       [ 2],\n",
       "       [ 2],\n",
       "       [10],\n",
       "       [10],\n",
       "       [ 7],\n",
       "       [10],\n",
       "       [ 2],\n",
       "       [ 2],\n",
       "       [10],\n",
       "       [10],\n",
       "       [ 2],\n",
       "       [10],\n",
       "       [ 2],\n",
       "       [ 2],\n",
       "       [ 7],\n",
       "       [ 2],\n",
       "       [ 2],\n",
       "       [10],\n",
       "       [10],\n",
       "       [10],\n",
       "       [ 2],\n",
       "       [10],\n",
       "       [ 2],\n",
       "       [ 2],\n",
       "       [ 2],\n",
       "       [ 2],\n",
       "       [ 2],\n",
       "       [ 2],\n",
       "       [ 2],\n",
       "       [ 2],\n",
       "       [ 2],\n",
       "       [ 2],\n",
       "       [ 2],\n",
       "       [ 2],\n",
       "       [10],\n",
       "       [10],\n",
       "       [ 2],\n",
       "       [10],\n",
       "       [10],\n",
       "       [ 2],\n",
       "       [ 2],\n",
       "       [ 2],\n",
       "       [10],\n",
       "       [ 2],\n",
       "       [ 2],\n",
       "       [ 2],\n",
       "       [ 2],\n",
       "       [ 2],\n",
       "       [ 2],\n",
       "       [ 2],\n",
       "       [ 2],\n",
       "       [ 2],\n",
       "       [ 2],\n",
       "       [10],\n",
       "       [ 7],\n",
       "       [ 2],\n",
       "       [ 2],\n",
       "       [ 7]], dtype=int64)>"
      ]
     },
     "execution_count": 29,
     "metadata": {},
     "output_type": "execute_result"
    }
   ],
   "source": [
    "train_labels['start_positions']"
   ]
  },
  {
   "cell_type": "code",
   "execution_count": 30,
   "metadata": {},
   "outputs": [
    {
     "name": "stdout",
     "output_type": "stream",
     "text": [
      "Max start position:  10\n",
      "Max end position:  10\n"
     ]
    }
   ],
   "source": [
    "max_start_position = tf.reduce_max(train_labels['start_positions'])\n",
    "max_end_position = tf.reduce_max(train_labels['end_positions'])\n",
    "\n",
    "print(\"Max start position: \", max_start_position.numpy())\n",
    "print(\"Max end position: \", max_end_position.numpy())"
   ]
  },
  {
   "cell_type": "code",
   "execution_count": 31,
   "metadata": {},
   "outputs": [
    {
     "data": {
      "text/plain": [
       "Dataset({\n",
       "    features: ['question', 'sentences', 'answer', 'str_idx', 'end_idx', 'input_ids', 'attention_mask', 'start_positions', 'end_positions'],\n",
       "    num_rows: 1000\n",
       "})"
      ]
     },
     "execution_count": 31,
     "metadata": {},
     "output_type": "execute_result"
    }
   ],
   "source": [
    "train_ds"
   ]
  },
  {
   "cell_type": "markdown",
   "metadata": {},
   "source": [
    "### ERR : Argument name must be a string and cannot contain character /. Received: name=tf_distil_bert_for_question_answering/distilbert/embeddings/word_embeddings/weight_0_momentum"
   ]
  },
  {
   "cell_type": "code",
   "execution_count": 32,
   "metadata": {},
   "outputs": [],
   "source": [
    "for weight in model.weights:\n",
    "    weight._handle_name = weight.name.replace('/', '_')"
   ]
  },
  {
   "cell_type": "markdown",
   "metadata": {},
   "source": [
    "### Model Many to Many"
   ]
  },
  {
   "cell_type": "markdown",
   "metadata": {},
   "source": [
    "### Model Input (1, 26) Output (1, 1) -> Cho 1 chuỗi sequence -> output lấy vị trí max hay là vị trí câu trả lời  "
   ]
  },
  {
   "attachments": {
    "image.png": {
     "image/png": "[encoded data removed]"
    }
   },
   "cell_type": "markdown",
   "metadata": {},
   "source": [
    "![image.png](attachment:image.png)"
   ]
  },
  {
   "cell_type": "code",
   "execution_count": 33,
   "metadata": {},
   "outputs": [
    {
     "name": "stdout",
     "output_type": "stream",
     "text": [
      "Starting epoch: 0\n",
      "Training loss (for one batch) at step 0: 7.9522\n",
      "Training accuracy (for one batch) at step 0: 0.0000\n"
     ]
    },
    {
     "ename": "KeyboardInterrupt",
     "evalue": "",
     "output_type": "error",
     "traceback": [
      "\u001b[1;31m---------------------------------------------------------------------------\u001b[0m",
      "\u001b[1;31mKeyboardInterrupt\u001b[0m                         Traceback (most recent call last)",
      "\u001b[1;32m~\\AppData\\Local\\Temp\\ipykernel_17492\\4182162147.py\u001b[0m in \u001b[0;36m?\u001b[1;34m()\u001b[0m\n\u001b[0;32m     14\u001b[0m             \u001b[0mloss_end\u001b[0m \u001b[1;33m=\u001b[0m \u001b[0mloss_fn2\u001b[0m\u001b[1;33m(\u001b[0m\u001b[0my_batch_train\u001b[0m\u001b[1;33m[\u001b[0m\u001b[1;34m'end_positions'\u001b[0m\u001b[1;33m]\u001b[0m\u001b[1;33m,\u001b[0m \u001b[0manswer_end_scores\u001b[0m\u001b[1;33m)\u001b[0m\u001b[1;33m\u001b[0m\u001b[1;33m\u001b[0m\u001b[0m\n\u001b[0;32m     15\u001b[0m             \u001b[0mloss\u001b[0m \u001b[1;33m=\u001b[0m \u001b[1;36m0.5\u001b[0m \u001b[1;33m*\u001b[0m \u001b[1;33m(\u001b[0m\u001b[0mloss_start\u001b[0m \u001b[1;33m+\u001b[0m \u001b[0mloss_end\u001b[0m\u001b[1;33m)\u001b[0m\u001b[1;33m\u001b[0m\u001b[1;33m\u001b[0m\u001b[0m\n\u001b[0;32m     16\u001b[0m         \u001b[0mlosses\u001b[0m\u001b[1;33m.\u001b[0m\u001b[0mappend\u001b[0m\u001b[1;33m(\u001b[0m\u001b[0mloss\u001b[0m\u001b[1;33m)\u001b[0m\u001b[1;33m\u001b[0m\u001b[1;33m\u001b[0m\u001b[0m\n\u001b[0;32m     17\u001b[0m         \u001b[0mgrads\u001b[0m \u001b[1;33m=\u001b[0m \u001b[0mtape\u001b[0m\u001b[1;33m.\u001b[0m\u001b[0mgradient\u001b[0m\u001b[1;33m(\u001b[0m\u001b[0mloss\u001b[0m\u001b[1;33m,\u001b[0m \u001b[0mmodel\u001b[0m\u001b[1;33m.\u001b[0m\u001b[0mtrainable_weights\u001b[0m\u001b[1;33m)\u001b[0m\u001b[1;33m\u001b[0m\u001b[1;33m\u001b[0m\u001b[0m\n\u001b[1;32m---> 18\u001b[1;33m         \u001b[0mopt\u001b[0m\u001b[1;33m.\u001b[0m\u001b[0mapply_gradients\u001b[0m\u001b[1;33m(\u001b[0m\u001b[0mzip\u001b[0m\u001b[1;33m(\u001b[0m\u001b[0mgrads\u001b[0m\u001b[1;33m,\u001b[0m \u001b[0mmodel\u001b[0m\u001b[1;33m.\u001b[0m\u001b[0mtrainable_weights\u001b[0m\u001b[1;33m)\u001b[0m\u001b[1;33m)\u001b[0m\u001b[1;33m\u001b[0m\u001b[1;33m\u001b[0m\u001b[0m\n\u001b[0m\u001b[0;32m     19\u001b[0m \u001b[1;33m\u001b[0m\u001b[0m\n\u001b[0;32m     20\u001b[0m         \u001b[0mtrain_accuracy_start\u001b[0m \u001b[1;33m=\u001b[0m \u001b[0mtf\u001b[0m\u001b[1;33m.\u001b[0m\u001b[0mkeras\u001b[0m\u001b[1;33m.\u001b[0m\u001b[0mmetrics\u001b[0m\u001b[1;33m.\u001b[0m\u001b[0msparse_categorical_accuracy\u001b[0m\u001b[1;33m(\u001b[0m\u001b[0my_batch_train\u001b[0m\u001b[1;33m[\u001b[0m\u001b[1;34m'start_positions'\u001b[0m\u001b[1;33m]\u001b[0m\u001b[1;33m,\u001b[0m \u001b[0manswer_start_scores\u001b[0m\u001b[1;33m)\u001b[0m\u001b[1;33m\u001b[0m\u001b[1;33m\u001b[0m\u001b[0m\n\u001b[0;32m     21\u001b[0m         \u001b[0mtrain_accuracy_end\u001b[0m \u001b[1;33m=\u001b[0m  \u001b[0mtf\u001b[0m\u001b[1;33m.\u001b[0m\u001b[0mkeras\u001b[0m\u001b[1;33m.\u001b[0m\u001b[0mmetrics\u001b[0m\u001b[1;33m.\u001b[0m\u001b[0msparse_categorical_accuracy\u001b[0m\u001b[1;33m(\u001b[0m\u001b[0my_batch_train\u001b[0m\u001b[1;33m[\u001b[0m\u001b[1;34m'end_positions'\u001b[0m\u001b[1;33m]\u001b[0m\u001b[1;33m,\u001b[0m \u001b[0manswer_end_scores\u001b[0m\u001b[1;33m)\u001b[0m\u001b[1;33m\u001b[0m\u001b[1;33m\u001b[0m\u001b[0m\n",
      "\u001b[1;32me:\\Question Answering\\venv\\lib\\site-packages\\keras\\src\\optimizers\\base_optimizer.py\u001b[0m in \u001b[0;36m?\u001b[1;34m(self, grads_and_vars)\u001b[0m\n\u001b[0;32m    267\u001b[0m     \u001b[1;32mdef\u001b[0m \u001b[0mapply_gradients\u001b[0m\u001b[1;33m(\u001b[0m\u001b[0mself\u001b[0m\u001b[1;33m,\u001b[0m \u001b[0mgrads_and_vars\u001b[0m\u001b[1;33m)\u001b[0m\u001b[1;33m:\u001b[0m\u001b[1;33m\u001b[0m\u001b[1;33m\u001b[0m\u001b[0m\n\u001b[0;32m    268\u001b[0m         \u001b[0mgrads\u001b[0m\u001b[1;33m,\u001b[0m \u001b[0mtrainable_variables\u001b[0m \u001b[1;33m=\u001b[0m \u001b[0mzip\u001b[0m\u001b[1;33m(\u001b[0m\u001b[1;33m*\u001b[0m\u001b[0mgrads_and_vars\u001b[0m\u001b[1;33m)\u001b[0m\u001b[1;33m\u001b[0m\u001b[1;33m\u001b[0m\u001b[0m\n\u001b[1;32m--> 269\u001b[1;33m         \u001b[0mself\u001b[0m\u001b[1;33m.\u001b[0m\u001b[0mapply\u001b[0m\u001b[1;33m(\u001b[0m\u001b[0mgrads\u001b[0m\u001b[1;33m,\u001b[0m \u001b[0mtrainable_variables\u001b[0m\u001b[1;33m)\u001b[0m\u001b[1;33m\u001b[0m\u001b[1;33m\u001b[0m\u001b[0m\n\u001b[0m\u001b[0;32m    270\u001b[0m         \u001b[1;31m# Return iterations for compat with tf.keras.\u001b[0m\u001b[1;33m\u001b[0m\u001b[1;33m\u001b[0m\u001b[0m\n\u001b[0;32m    271\u001b[0m         \u001b[1;32mreturn\u001b[0m \u001b[0mself\u001b[0m\u001b[1;33m.\u001b[0m\u001b[0miterations\u001b[0m\u001b[1;33m\u001b[0m\u001b[1;33m\u001b[0m\u001b[0m\n",
      "\u001b[1;32me:\\Question Answering\\venv\\lib\\site-packages\\keras\\src\\optimizers\\base_optimizer.py\u001b[0m in \u001b[0;36m?\u001b[1;34m(self, grads, trainable_variables)\u001b[0m\n\u001b[0;32m    326\u001b[0m             \u001b[0mgrads\u001b[0m \u001b[1;33m=\u001b[0m \u001b[0mself\u001b[0m\u001b[1;33m.\u001b[0m\u001b[0m_clip_gradients\u001b[0m\u001b[1;33m(\u001b[0m\u001b[0mgrads\u001b[0m\u001b[1;33m)\u001b[0m\u001b[1;33m\u001b[0m\u001b[1;33m\u001b[0m\u001b[0m\n\u001b[0;32m    327\u001b[0m             \u001b[0mself\u001b[0m\u001b[1;33m.\u001b[0m\u001b[0m_apply_weight_decay\u001b[0m\u001b[1;33m(\u001b[0m\u001b[0mtrainable_variables\u001b[0m\u001b[1;33m)\u001b[0m\u001b[1;33m\u001b[0m\u001b[1;33m\u001b[0m\u001b[0m\n\u001b[0;32m    328\u001b[0m \u001b[1;33m\u001b[0m\u001b[0m\n\u001b[0;32m    329\u001b[0m             \u001b[1;31m# Apply gradient updates.\u001b[0m\u001b[1;33m\u001b[0m\u001b[1;33m\u001b[0m\u001b[0m\n\u001b[1;32m--> 330\u001b[1;33m             \u001b[0mself\u001b[0m\u001b[1;33m.\u001b[0m\u001b[0m_backend_apply_gradients\u001b[0m\u001b[1;33m(\u001b[0m\u001b[0mgrads\u001b[0m\u001b[1;33m,\u001b[0m \u001b[0mtrainable_variables\u001b[0m\u001b[1;33m)\u001b[0m\u001b[1;33m\u001b[0m\u001b[1;33m\u001b[0m\u001b[0m\n\u001b[0m\u001b[0;32m    331\u001b[0m             \u001b[1;31m# Apply variable constraints after applying gradients.\u001b[0m\u001b[1;33m\u001b[0m\u001b[1;33m\u001b[0m\u001b[0m\n\u001b[0;32m    332\u001b[0m             \u001b[1;32mfor\u001b[0m \u001b[0mvariable\u001b[0m \u001b[1;32min\u001b[0m \u001b[0mtrainable_variables\u001b[0m\u001b[1;33m:\u001b[0m\u001b[1;33m\u001b[0m\u001b[1;33m\u001b[0m\u001b[0m\n\u001b[0;32m    333\u001b[0m                 \u001b[1;32mif\u001b[0m \u001b[0mgetattr\u001b[0m\u001b[1;33m(\u001b[0m\u001b[0mvariable\u001b[0m\u001b[1;33m,\u001b[0m \u001b[1;34m\"constraint\"\u001b[0m\u001b[1;33m,\u001b[0m \u001b[1;32mNone\u001b[0m\u001b[1;33m)\u001b[0m \u001b[1;32mis\u001b[0m \u001b[1;32mnot\u001b[0m \u001b[1;32mNone\u001b[0m\u001b[1;33m:\u001b[0m\u001b[1;33m\u001b[0m\u001b[1;33m\u001b[0m\u001b[0m\n",
      "\u001b[1;32me:\\Question Answering\\venv\\lib\\site-packages\\keras\\src\\optimizers\\base_optimizer.py\u001b[0m in \u001b[0;36m?\u001b[1;34m(self, grads, trainable_variables)\u001b[0m\n\u001b[0;32m    376\u001b[0m                 \u001b[1;32mlambda\u001b[0m\u001b[1;33m:\u001b[0m \u001b[0m_grad_accumulation_fn\u001b[0m\u001b[1;33m(\u001b[0m\u001b[0mself\u001b[0m\u001b[1;33m,\u001b[0m \u001b[0mgrads\u001b[0m\u001b[1;33m)\u001b[0m\u001b[1;33m,\u001b[0m\u001b[1;33m\u001b[0m\u001b[1;33m\u001b[0m\u001b[0m\n\u001b[0;32m    377\u001b[0m             )\n\u001b[0;32m    378\u001b[0m         \u001b[1;32melse\u001b[0m\u001b[1;33m:\u001b[0m\u001b[1;33m\u001b[0m\u001b[1;33m\u001b[0m\u001b[0m\n\u001b[0;32m    379\u001b[0m             \u001b[1;31m# Run udpate step.\u001b[0m\u001b[1;33m\u001b[0m\u001b[1;33m\u001b[0m\u001b[0m\n\u001b[1;32m--> 380\u001b[1;33m             self._backend_update_step(\n\u001b[0m\u001b[0;32m    381\u001b[0m                 \u001b[0mgrads\u001b[0m\u001b[1;33m,\u001b[0m \u001b[0mtrainable_variables\u001b[0m\u001b[1;33m,\u001b[0m \u001b[0mself\u001b[0m\u001b[1;33m.\u001b[0m\u001b[0mlearning_rate\u001b[0m\u001b[1;33m\u001b[0m\u001b[1;33m\u001b[0m\u001b[0m\n\u001b[0;32m    382\u001b[0m             )\n\u001b[0;32m    383\u001b[0m \u001b[1;33m\u001b[0m\u001b[0m\n",
      "\u001b[1;32me:\\Question Answering\\venv\\lib\\site-packages\\keras\\src\\backend\\tensorflow\\optimizer.py\u001b[0m in \u001b[0;36m?\u001b[1;34m(self, grads, trainable_variables, learning_rate)\u001b[0m\n\u001b[0;32m    103\u001b[0m         trainable_variables = [\n\u001b[0;32m    104\u001b[0m             \u001b[0mv\u001b[0m\u001b[1;33m.\u001b[0m\u001b[0mvalue\u001b[0m \u001b[1;32mif\u001b[0m \u001b[0misinstance\u001b[0m\u001b[1;33m(\u001b[0m\u001b[0mv\u001b[0m\u001b[1;33m,\u001b[0m \u001b[0mbackend\u001b[0m\u001b[1;33m.\u001b[0m\u001b[0mVariable\u001b[0m\u001b[1;33m)\u001b[0m \u001b[1;32melse\u001b[0m \u001b[0mv\u001b[0m\u001b[1;33m\u001b[0m\u001b[1;33m\u001b[0m\u001b[0m\n\u001b[0;32m    105\u001b[0m             \u001b[1;32mfor\u001b[0m \u001b[0mv\u001b[0m \u001b[1;32min\u001b[0m \u001b[0mtrainable_variables\u001b[0m\u001b[1;33m\u001b[0m\u001b[1;33m\u001b[0m\u001b[0m\n\u001b[0;32m    106\u001b[0m         ]\n\u001b[1;32m--> 107\u001b[1;33m         tf.__internal__.distribute.interim.maybe_merge_call(\n\u001b[0m\u001b[0;32m    108\u001b[0m             \u001b[0mself\u001b[0m\u001b[1;33m.\u001b[0m\u001b[0m_distributed_tf_update_step\u001b[0m\u001b[1;33m,\u001b[0m\u001b[1;33m\u001b[0m\u001b[1;33m\u001b[0m\u001b[0m\n\u001b[0;32m    109\u001b[0m             \u001b[0mself\u001b[0m\u001b[1;33m.\u001b[0m\u001b[0m_distribution_strategy\u001b[0m\u001b[1;33m,\u001b[0m\u001b[1;33m\u001b[0m\u001b[1;33m\u001b[0m\u001b[0m\n\u001b[0;32m    110\u001b[0m             \u001b[0mlist\u001b[0m\u001b[1;33m(\u001b[0m\u001b[0mzip\u001b[0m\u001b[1;33m(\u001b[0m\u001b[0mgrads\u001b[0m\u001b[1;33m,\u001b[0m \u001b[0mtrainable_variables\u001b[0m\u001b[1;33m)\u001b[0m\u001b[1;33m)\u001b[0m\u001b[1;33m,\u001b[0m\u001b[1;33m\u001b[0m\u001b[1;33m\u001b[0m\u001b[0m\n",
      "\u001b[1;32me:\\Question Answering\\venv\\lib\\site-packages\\tensorflow\\python\\distribute\\merge_call_interim.py\u001b[0m in \u001b[0;36m?\u001b[1;34m(fn, strategy, *args, **kwargs)\u001b[0m\n\u001b[0;32m     47\u001b[0m   \u001b[0mReturns\u001b[0m\u001b[1;33m:\u001b[0m\u001b[1;33m\u001b[0m\u001b[1;33m\u001b[0m\u001b[0m\n\u001b[0;32m     48\u001b[0m     \u001b[0mThe\u001b[0m \u001b[1;32mreturn\u001b[0m \u001b[0mvalue\u001b[0m \u001b[0mof\u001b[0m \u001b[0mthe\u001b[0m\u001b[0;31m \u001b[0m\u001b[0;31m`\u001b[0m\u001b[0mfn\u001b[0m\u001b[0;31m`\u001b[0m \u001b[0mcall\u001b[0m\u001b[1;33m.\u001b[0m\u001b[1;33m\u001b[0m\u001b[1;33m\u001b[0m\u001b[0m\n\u001b[0;32m     49\u001b[0m   \"\"\"\n\u001b[0;32m     50\u001b[0m   \u001b[1;32mif\u001b[0m \u001b[0mstrategy_supports_no_merge_call\u001b[0m\u001b[1;33m(\u001b[0m\u001b[1;33m)\u001b[0m\u001b[1;33m:\u001b[0m\u001b[1;33m\u001b[0m\u001b[1;33m\u001b[0m\u001b[0m\n\u001b[1;32m---> 51\u001b[1;33m     \u001b[1;32mreturn\u001b[0m \u001b[0mfn\u001b[0m\u001b[1;33m(\u001b[0m\u001b[0mstrategy\u001b[0m\u001b[1;33m,\u001b[0m \u001b[1;33m*\u001b[0m\u001b[0margs\u001b[0m\u001b[1;33m,\u001b[0m \u001b[1;33m**\u001b[0m\u001b[0mkwargs\u001b[0m\u001b[1;33m)\u001b[0m\u001b[1;33m\u001b[0m\u001b[1;33m\u001b[0m\u001b[0m\n\u001b[0m\u001b[0;32m     52\u001b[0m   \u001b[1;32melse\u001b[0m\u001b[1;33m:\u001b[0m\u001b[1;33m\u001b[0m\u001b[1;33m\u001b[0m\u001b[0m\n\u001b[0;32m     53\u001b[0m     return distribute_lib.get_replica_context().merge_call(\n\u001b[0;32m     54\u001b[0m         fn, args=args, kwargs=kwargs)\n",
      "\u001b[1;32me:\\Question Answering\\venv\\lib\\site-packages\\keras\\src\\backend\\tensorflow\\optimizer.py\u001b[0m in \u001b[0;36m?\u001b[1;34m(self, distribution, grads_and_vars, learning_rate)\u001b[0m\n\u001b[0;32m    117\u001b[0m         \u001b[1;32mdef\u001b[0m \u001b[0mapply_grad_to_update_var\u001b[0m\u001b[1;33m(\u001b[0m\u001b[0mvar\u001b[0m\u001b[1;33m,\u001b[0m \u001b[0mgrad\u001b[0m\u001b[1;33m)\u001b[0m\u001b[1;33m:\u001b[0m\u001b[1;33m\u001b[0m\u001b[1;33m\u001b[0m\u001b[0m\n\u001b[0;32m    118\u001b[0m             \u001b[1;32mreturn\u001b[0m \u001b[0mself\u001b[0m\u001b[1;33m.\u001b[0m\u001b[0mupdate_step\u001b[0m\u001b[1;33m(\u001b[0m\u001b[0mgrad\u001b[0m\u001b[1;33m,\u001b[0m \u001b[0mvar\u001b[0m\u001b[1;33m,\u001b[0m \u001b[0mlearning_rate\u001b[0m\u001b[1;33m)\u001b[0m\u001b[1;33m\u001b[0m\u001b[1;33m\u001b[0m\u001b[0m\n\u001b[0;32m    119\u001b[0m \u001b[1;33m\u001b[0m\u001b[0m\n\u001b[0;32m    120\u001b[0m         \u001b[1;32mfor\u001b[0m \u001b[0mgrad\u001b[0m\u001b[1;33m,\u001b[0m \u001b[0mvar\u001b[0m \u001b[1;32min\u001b[0m \u001b[0mgrads_and_vars\u001b[0m\u001b[1;33m:\u001b[0m\u001b[1;33m\u001b[0m\u001b[1;33m\u001b[0m\u001b[0m\n\u001b[1;32m--> 121\u001b[1;33m             distribution.extended.update(\n\u001b[0m\u001b[0;32m    122\u001b[0m                 \u001b[0mvar\u001b[0m\u001b[1;33m,\u001b[0m \u001b[0mapply_grad_to_update_var\u001b[0m\u001b[1;33m,\u001b[0m \u001b[0margs\u001b[0m\u001b[1;33m=\u001b[0m\u001b[1;33m(\u001b[0m\u001b[0mgrad\u001b[0m\u001b[1;33m,\u001b[0m\u001b[1;33m)\u001b[0m\u001b[1;33m,\u001b[0m \u001b[0mgroup\u001b[0m\u001b[1;33m=\u001b[0m\u001b[1;32mFalse\u001b[0m\u001b[1;33m\u001b[0m\u001b[1;33m\u001b[0m\u001b[0m\n\u001b[0;32m    123\u001b[0m             )\n",
      "\u001b[1;32me:\\Question Answering\\venv\\lib\\site-packages\\tensorflow\\python\\distribute\\distribute_lib.py\u001b[0m in \u001b[0;36m?\u001b[1;34m(self, var, fn, args, kwargs, group)\u001b[0m\n\u001b[0;32m   3001\u001b[0m         _get_default_replica_context()):\n\u001b[0;32m   3002\u001b[0m       fn = autograph.tf_convert(\n\u001b[0;32m   3003\u001b[0m           fn, autograph_ctx.control_status_ctx(), convert_by_default=False)\n\u001b[0;32m   3004\u001b[0m       \u001b[1;32mwith\u001b[0m \u001b[0mself\u001b[0m\u001b[1;33m.\u001b[0m\u001b[0m_container_strategy\u001b[0m\u001b[1;33m(\u001b[0m\u001b[1;33m)\u001b[0m\u001b[1;33m.\u001b[0m\u001b[0mscope\u001b[0m\u001b[1;33m(\u001b[0m\u001b[1;33m)\u001b[0m\u001b[1;33m:\u001b[0m\u001b[1;33m\u001b[0m\u001b[1;33m\u001b[0m\u001b[0m\n\u001b[1;32m-> 3005\u001b[1;33m         \u001b[1;32mreturn\u001b[0m \u001b[0mself\u001b[0m\u001b[1;33m.\u001b[0m\u001b[0m_update\u001b[0m\u001b[1;33m(\u001b[0m\u001b[0mvar\u001b[0m\u001b[1;33m,\u001b[0m \u001b[0mfn\u001b[0m\u001b[1;33m,\u001b[0m \u001b[0margs\u001b[0m\u001b[1;33m,\u001b[0m \u001b[0mkwargs\u001b[0m\u001b[1;33m,\u001b[0m \u001b[0mgroup\u001b[0m\u001b[1;33m)\u001b[0m\u001b[1;33m\u001b[0m\u001b[1;33m\u001b[0m\u001b[0m\n\u001b[0m\u001b[0;32m   3006\u001b[0m     \u001b[1;32melse\u001b[0m\u001b[1;33m:\u001b[0m\u001b[1;33m\u001b[0m\u001b[1;33m\u001b[0m\u001b[0m\n\u001b[0;32m   3007\u001b[0m       return self._replica_ctx_update(\n\u001b[0;32m   3008\u001b[0m           var, fn, args=args, kwargs=kwargs, group=group)\n",
      "\u001b[1;32me:\\Question Answering\\venv\\lib\\site-packages\\tensorflow\\python\\distribute\\distribute_lib.py\u001b[0m in \u001b[0;36m?\u001b[1;34m(self, var, fn, args, kwargs, group)\u001b[0m\n\u001b[0;32m   4072\u001b[0m   \u001b[1;32mdef\u001b[0m \u001b[0m_update\u001b[0m\u001b[1;33m(\u001b[0m\u001b[0mself\u001b[0m\u001b[1;33m,\u001b[0m \u001b[0mvar\u001b[0m\u001b[1;33m,\u001b[0m \u001b[0mfn\u001b[0m\u001b[1;33m,\u001b[0m \u001b[0margs\u001b[0m\u001b[1;33m,\u001b[0m \u001b[0mkwargs\u001b[0m\u001b[1;33m,\u001b[0m \u001b[0mgroup\u001b[0m\u001b[1;33m)\u001b[0m\u001b[1;33m:\u001b[0m\u001b[1;33m\u001b[0m\u001b[1;33m\u001b[0m\u001b[0m\n\u001b[0;32m   4073\u001b[0m     \u001b[1;31m# The implementations of _update() and _update_non_slot() are identical\u001b[0m\u001b[1;33m\u001b[0m\u001b[1;33m\u001b[0m\u001b[0m\n\u001b[0;32m   4074\u001b[0m     \u001b[1;31m# except _update() passes `var` as the first argument to `fn()`.\u001b[0m\u001b[1;33m\u001b[0m\u001b[1;33m\u001b[0m\u001b[0m\n\u001b[1;32m-> 4075\u001b[1;33m     \u001b[1;32mreturn\u001b[0m \u001b[0mself\u001b[0m\u001b[1;33m.\u001b[0m\u001b[0m_update_non_slot\u001b[0m\u001b[1;33m(\u001b[0m\u001b[0mvar\u001b[0m\u001b[1;33m,\u001b[0m \u001b[0mfn\u001b[0m\u001b[1;33m,\u001b[0m \u001b[1;33m(\u001b[0m\u001b[0mvar\u001b[0m\u001b[1;33m,\u001b[0m\u001b[1;33m)\u001b[0m \u001b[1;33m+\u001b[0m \u001b[0mtuple\u001b[0m\u001b[1;33m(\u001b[0m\u001b[0margs\u001b[0m\u001b[1;33m)\u001b[0m\u001b[1;33m,\u001b[0m \u001b[0mkwargs\u001b[0m\u001b[1;33m,\u001b[0m \u001b[0mgroup\u001b[0m\u001b[1;33m)\u001b[0m\u001b[1;33m\u001b[0m\u001b[1;33m\u001b[0m\u001b[0m\n\u001b[0m",
      "\u001b[1;32me:\\Question Answering\\venv\\lib\\site-packages\\tensorflow\\python\\distribute\\distribute_lib.py\u001b[0m in \u001b[0;36m?\u001b[1;34m(self, colocate_with, fn, args, kwargs, should_group)\u001b[0m\n\u001b[0;32m   4077\u001b[0m   \u001b[1;32mdef\u001b[0m \u001b[0m_update_non_slot\u001b[0m\u001b[1;33m(\u001b[0m\u001b[0mself\u001b[0m\u001b[1;33m,\u001b[0m \u001b[0mcolocate_with\u001b[0m\u001b[1;33m,\u001b[0m \u001b[0mfn\u001b[0m\u001b[1;33m,\u001b[0m \u001b[0margs\u001b[0m\u001b[1;33m,\u001b[0m \u001b[0mkwargs\u001b[0m\u001b[1;33m,\u001b[0m \u001b[0mshould_group\u001b[0m\u001b[1;33m)\u001b[0m\u001b[1;33m:\u001b[0m\u001b[1;33m\u001b[0m\u001b[1;33m\u001b[0m\u001b[0m\n\u001b[0;32m   4078\u001b[0m     \u001b[1;31m# TODO(josh11b): Figure out what we should be passing to UpdateContext()\u001b[0m\u001b[1;33m\u001b[0m\u001b[1;33m\u001b[0m\u001b[0m\n\u001b[0;32m   4079\u001b[0m     \u001b[1;31m# once that value is used for something.\u001b[0m\u001b[1;33m\u001b[0m\u001b[1;33m\u001b[0m\u001b[0m\n\u001b[0;32m   4080\u001b[0m     \u001b[1;32mwith\u001b[0m \u001b[0mUpdateContext\u001b[0m\u001b[1;33m(\u001b[0m\u001b[0mcolocate_with\u001b[0m\u001b[1;33m)\u001b[0m\u001b[1;33m:\u001b[0m\u001b[1;33m\u001b[0m\u001b[1;33m\u001b[0m\u001b[0m\n\u001b[1;32m-> 4081\u001b[1;33m       \u001b[0mresult\u001b[0m \u001b[1;33m=\u001b[0m \u001b[0mfn\u001b[0m\u001b[1;33m(\u001b[0m\u001b[1;33m*\u001b[0m\u001b[0margs\u001b[0m\u001b[1;33m,\u001b[0m \u001b[1;33m**\u001b[0m\u001b[0mkwargs\u001b[0m\u001b[1;33m)\u001b[0m\u001b[1;33m\u001b[0m\u001b[1;33m\u001b[0m\u001b[0m\n\u001b[0m\u001b[0;32m   4082\u001b[0m       \u001b[1;32mif\u001b[0m \u001b[0mshould_group\u001b[0m\u001b[1;33m:\u001b[0m\u001b[1;33m\u001b[0m\u001b[1;33m\u001b[0m\u001b[0m\n\u001b[0;32m   4083\u001b[0m         \u001b[1;32mreturn\u001b[0m \u001b[0mresult\u001b[0m\u001b[1;33m\u001b[0m\u001b[1;33m\u001b[0m\u001b[0m\n\u001b[0;32m   4084\u001b[0m       \u001b[1;32melse\u001b[0m\u001b[1;33m:\u001b[0m\u001b[1;33m\u001b[0m\u001b[1;33m\u001b[0m\u001b[0m\n",
      "\u001b[1;32me:\\Question Answering\\venv\\lib\\site-packages\\tensorflow\\python\\autograph\\impl\\api.py\u001b[0m in \u001b[0;36m?\u001b[1;34m(*args, **kwargs)\u001b[0m\n\u001b[0;32m    594\u001b[0m   \u001b[1;32mdef\u001b[0m \u001b[0mwrapper\u001b[0m\u001b[1;33m(\u001b[0m\u001b[1;33m*\u001b[0m\u001b[0margs\u001b[0m\u001b[1;33m,\u001b[0m \u001b[1;33m**\u001b[0m\u001b[0mkwargs\u001b[0m\u001b[1;33m)\u001b[0m\u001b[1;33m:\u001b[0m\u001b[1;33m\u001b[0m\u001b[1;33m\u001b[0m\u001b[0m\n\u001b[0;32m    595\u001b[0m     \u001b[1;32mwith\u001b[0m \u001b[0mag_ctx\u001b[0m\u001b[1;33m.\u001b[0m\u001b[0mControlStatusCtx\u001b[0m\u001b[1;33m(\u001b[0m\u001b[0mstatus\u001b[0m\u001b[1;33m=\u001b[0m\u001b[0mag_ctx\u001b[0m\u001b[1;33m.\u001b[0m\u001b[0mStatus\u001b[0m\u001b[1;33m.\u001b[0m\u001b[0mUNSPECIFIED\u001b[0m\u001b[1;33m)\u001b[0m\u001b[1;33m:\u001b[0m\u001b[1;33m\u001b[0m\u001b[1;33m\u001b[0m\u001b[0m\n\u001b[1;32m--> 596\u001b[1;33m       \u001b[1;32mreturn\u001b[0m \u001b[0mfunc\u001b[0m\u001b[1;33m(\u001b[0m\u001b[1;33m*\u001b[0m\u001b[0margs\u001b[0m\u001b[1;33m,\u001b[0m \u001b[1;33m**\u001b[0m\u001b[0mkwargs\u001b[0m\u001b[1;33m)\u001b[0m\u001b[1;33m\u001b[0m\u001b[1;33m\u001b[0m\u001b[0m\n\u001b[0m",
      "\u001b[1;32me:\\Question Answering\\venv\\lib\\site-packages\\keras\\src\\backend\\tensorflow\\optimizer.py\u001b[0m in \u001b[0;36m?\u001b[1;34m(var, grad)\u001b[0m\n\u001b[0;32m    117\u001b[0m         \u001b[1;32mdef\u001b[0m \u001b[0mapply_grad_to_update_var\u001b[0m\u001b[1;33m(\u001b[0m\u001b[0mvar\u001b[0m\u001b[1;33m,\u001b[0m \u001b[0mgrad\u001b[0m\u001b[1;33m)\u001b[0m\u001b[1;33m:\u001b[0m\u001b[1;33m\u001b[0m\u001b[1;33m\u001b[0m\u001b[0m\n\u001b[1;32m--> 118\u001b[1;33m             \u001b[1;32mreturn\u001b[0m \u001b[0mself\u001b[0m\u001b[1;33m.\u001b[0m\u001b[0mupdate_step\u001b[0m\u001b[1;33m(\u001b[0m\u001b[0mgrad\u001b[0m\u001b[1;33m,\u001b[0m \u001b[0mvar\u001b[0m\u001b[1;33m,\u001b[0m \u001b[0mlearning_rate\u001b[0m\u001b[1;33m)\u001b[0m\u001b[1;33m\u001b[0m\u001b[1;33m\u001b[0m\u001b[0m\n\u001b[0m",
      "\u001b[1;32me:\\Question Answering\\venv\\lib\\site-packages\\keras\\src\\optimizers\\adam.py\u001b[0m in \u001b[0;36m?\u001b[1;34m(self, gradient, variable, learning_rate)\u001b[0m\n\u001b[0;32m    122\u001b[0m \u001b[1;33m\u001b[0m\u001b[0m\n\u001b[0;32m    123\u001b[0m         \u001b[0mm\u001b[0m \u001b[1;33m=\u001b[0m \u001b[0mself\u001b[0m\u001b[1;33m.\u001b[0m\u001b[0m_momentums\u001b[0m\u001b[1;33m[\u001b[0m\u001b[0mself\u001b[0m\u001b[1;33m.\u001b[0m\u001b[0m_get_variable_index\u001b[0m\u001b[1;33m(\u001b[0m\u001b[0mvariable\u001b[0m\u001b[1;33m)\u001b[0m\u001b[1;33m]\u001b[0m\u001b[1;33m\u001b[0m\u001b[1;33m\u001b[0m\u001b[0m\n\u001b[0;32m    124\u001b[0m         \u001b[0mv\u001b[0m \u001b[1;33m=\u001b[0m \u001b[0mself\u001b[0m\u001b[1;33m.\u001b[0m\u001b[0m_velocities\u001b[0m\u001b[1;33m[\u001b[0m\u001b[0mself\u001b[0m\u001b[1;33m.\u001b[0m\u001b[0m_get_variable_index\u001b[0m\u001b[1;33m(\u001b[0m\u001b[0mvariable\u001b[0m\u001b[1;33m)\u001b[0m\u001b[1;33m]\u001b[0m\u001b[1;33m\u001b[0m\u001b[1;33m\u001b[0m\u001b[0m\n\u001b[0;32m    125\u001b[0m \u001b[1;33m\u001b[0m\u001b[0m\n\u001b[1;32m--> 126\u001b[1;33m         \u001b[0malpha\u001b[0m \u001b[1;33m=\u001b[0m \u001b[0mlr\u001b[0m \u001b[1;33m*\u001b[0m \u001b[0mops\u001b[0m\u001b[1;33m.\u001b[0m\u001b[0msqrt\u001b[0m\u001b[1;33m(\u001b[0m\u001b[1;36m1\u001b[0m \u001b[1;33m-\u001b[0m \u001b[0mbeta_2_power\u001b[0m\u001b[1;33m)\u001b[0m \u001b[1;33m/\u001b[0m \u001b[1;33m(\u001b[0m\u001b[1;36m1\u001b[0m \u001b[1;33m-\u001b[0m \u001b[0mbeta_1_power\u001b[0m\u001b[1;33m)\u001b[0m\u001b[1;33m\u001b[0m\u001b[1;33m\u001b[0m\u001b[0m\n\u001b[0m\u001b[0;32m    127\u001b[0m \u001b[1;33m\u001b[0m\u001b[0m\n\u001b[0;32m    128\u001b[0m         self.assign_add(\n\u001b[0;32m    129\u001b[0m             \u001b[0mm\u001b[0m\u001b[1;33m,\u001b[0m \u001b[0mops\u001b[0m\u001b[1;33m.\u001b[0m\u001b[0mmultiply\u001b[0m\u001b[1;33m(\u001b[0m\u001b[0mops\u001b[0m\u001b[1;33m.\u001b[0m\u001b[0msubtract\u001b[0m\u001b[1;33m(\u001b[0m\u001b[0mgradient\u001b[0m\u001b[1;33m,\u001b[0m \u001b[0mm\u001b[0m\u001b[1;33m)\u001b[0m\u001b[1;33m,\u001b[0m \u001b[1;36m1\u001b[0m \u001b[1;33m-\u001b[0m \u001b[0mself\u001b[0m\u001b[1;33m.\u001b[0m\u001b[0mbeta_1\u001b[0m\u001b[1;33m)\u001b[0m\u001b[1;33m\u001b[0m\u001b[1;33m\u001b[0m\u001b[0m\n",
      "\u001b[1;32me:\\Question Answering\\venv\\lib\\site-packages\\tensorflow\\python\\util\\traceback_utils.py\u001b[0m in \u001b[0;36m?\u001b[1;34m(*args, **kwargs)\u001b[0m\n\u001b[0;32m    151\u001b[0m     \u001b[1;32mexcept\u001b[0m \u001b[0mException\u001b[0m \u001b[1;32mas\u001b[0m \u001b[0me\u001b[0m\u001b[1;33m:\u001b[0m\u001b[1;33m\u001b[0m\u001b[1;33m\u001b[0m\u001b[0m\n\u001b[0;32m    152\u001b[0m       \u001b[0mfiltered_tb\u001b[0m \u001b[1;33m=\u001b[0m \u001b[0m_process_traceback_frames\u001b[0m\u001b[1;33m(\u001b[0m\u001b[0me\u001b[0m\u001b[1;33m.\u001b[0m\u001b[0m__traceback__\u001b[0m\u001b[1;33m)\u001b[0m\u001b[1;33m\u001b[0m\u001b[1;33m\u001b[0m\u001b[0m\n\u001b[0;32m    153\u001b[0m       \u001b[1;32mraise\u001b[0m \u001b[0me\u001b[0m\u001b[1;33m.\u001b[0m\u001b[0mwith_traceback\u001b[0m\u001b[1;33m(\u001b[0m\u001b[0mfiltered_tb\u001b[0m\u001b[1;33m)\u001b[0m \u001b[1;32mfrom\u001b[0m \u001b[1;32mNone\u001b[0m\u001b[1;33m\u001b[0m\u001b[1;33m\u001b[0m\u001b[0m\n\u001b[0;32m    154\u001b[0m     \u001b[1;32mfinally\u001b[0m\u001b[1;33m:\u001b[0m\u001b[1;33m\u001b[0m\u001b[1;33m\u001b[0m\u001b[0m\n\u001b[1;32m--> 155\u001b[1;33m       \u001b[1;32mdel\u001b[0m \u001b[0mfiltered_tb\u001b[0m\u001b[1;33m\u001b[0m\u001b[1;33m\u001b[0m\u001b[0m\n\u001b[0m",
      "\u001b[1;32me:\\Question Answering\\venv\\lib\\site-packages\\tensorflow\\python\\framework\\override_binary_operator.py\u001b[0m in \u001b[0;36m?\u001b[1;34m(x, y)\u001b[0m\n\u001b[0;32m    110\u001b[0m         \u001b[1;31m# TODO(b/178860388): Figure out why binary_op_wrapper and\u001b[0m\u001b[1;33m\u001b[0m\u001b[1;33m\u001b[0m\u001b[0m\n\u001b[0;32m    111\u001b[0m         \u001b[1;31m#   r_binary_op_wrapper use different force_same_dtype values.\u001b[0m\u001b[1;33m\u001b[0m\u001b[1;33m\u001b[0m\u001b[0m\n\u001b[0;32m    112\u001b[0m         \u001b[0mx\u001b[0m\u001b[1;33m,\u001b[0m \u001b[0my\u001b[0m \u001b[1;33m=\u001b[0m \u001b[0mmaybe_promote_tensors\u001b[0m\u001b[1;33m(\u001b[0m\u001b[0mx\u001b[0m\u001b[1;33m,\u001b[0m \u001b[0my\u001b[0m\u001b[1;33m)\u001b[0m\u001b[1;33m\u001b[0m\u001b[1;33m\u001b[0m\u001b[0m\n\u001b[0;32m    113\u001b[0m         \u001b[1;32mreturn\u001b[0m \u001b[0mfunc\u001b[0m\u001b[1;33m(\u001b[0m\u001b[0mx\u001b[0m\u001b[1;33m,\u001b[0m \u001b[0my\u001b[0m\u001b[1;33m,\u001b[0m \u001b[0mname\u001b[0m\u001b[1;33m=\u001b[0m\u001b[0mname\u001b[0m\u001b[1;33m)\u001b[0m\u001b[1;33m\u001b[0m\u001b[1;33m\u001b[0m\u001b[0m\n\u001b[1;32m--> 114\u001b[1;33m       \u001b[1;32mexcept\u001b[0m \u001b[1;33m(\u001b[0m\u001b[0mTypeError\u001b[0m\u001b[1;33m,\u001b[0m \u001b[0mValueError\u001b[0m\u001b[1;33m)\u001b[0m \u001b[1;32mas\u001b[0m \u001b[0me\u001b[0m\u001b[1;33m:\u001b[0m\u001b[1;33m\u001b[0m\u001b[1;33m\u001b[0m\u001b[0m\n\u001b[0m\u001b[0;32m    115\u001b[0m         \u001b[1;31m# Even if dispatching the op failed, the RHS may be a tensor aware\u001b[0m\u001b[1;33m\u001b[0m\u001b[1;33m\u001b[0m\u001b[0m\n\u001b[0;32m    116\u001b[0m         \u001b[1;31m# object that can implement the operator with knowledge of itself\u001b[0m\u001b[1;33m\u001b[0m\u001b[1;33m\u001b[0m\u001b[0m\n\u001b[0;32m    117\u001b[0m         \u001b[1;31m# and the tensor.\u001b[0m\u001b[1;33m\u001b[0m\u001b[1;33m\u001b[0m\u001b[0m\n",
      "\u001b[1;32me:\\Question Answering\\venv\\lib\\site-packages\\tensorflow\\python\\ops\\tensor_math_operator_overrides.py\u001b[0m in \u001b[0;36m?\u001b[1;34m(x, y, name)\u001b[0m\n\u001b[0;32m     85\u001b[0m \u001b[1;32mdef\u001b[0m \u001b[0m_truediv_factory\u001b[0m\u001b[1;33m(\u001b[0m\u001b[0mx\u001b[0m\u001b[1;33m,\u001b[0m \u001b[0my\u001b[0m\u001b[1;33m,\u001b[0m \u001b[0mname\u001b[0m\u001b[1;33m=\u001b[0m\u001b[1;32mNone\u001b[0m\u001b[1;33m)\u001b[0m\u001b[1;33m:\u001b[0m\u001b[1;33m\u001b[0m\u001b[1;33m\u001b[0m\u001b[0m\n\u001b[0;32m     86\u001b[0m   \u001b[1;32mfrom\u001b[0m \u001b[0mtensorflow\u001b[0m\u001b[1;33m.\u001b[0m\u001b[0mpython\u001b[0m\u001b[1;33m.\u001b[0m\u001b[0mops\u001b[0m \u001b[1;32mimport\u001b[0m \u001b[0mmath_ops\u001b[0m\u001b[1;33m\u001b[0m\u001b[1;33m\u001b[0m\u001b[0m\n\u001b[0;32m     87\u001b[0m \u001b[1;33m\u001b[0m\u001b[0m\n\u001b[1;32m---> 88\u001b[1;33m   \u001b[1;32mreturn\u001b[0m \u001b[0mmath_ops\u001b[0m\u001b[1;33m.\u001b[0m\u001b[0mtruediv\u001b[0m\u001b[1;33m(\u001b[0m\u001b[0mx\u001b[0m\u001b[1;33m,\u001b[0m \u001b[0my\u001b[0m\u001b[1;33m,\u001b[0m \u001b[0mname\u001b[0m\u001b[1;33m=\u001b[0m\u001b[0mname\u001b[0m\u001b[1;33m)\u001b[0m\u001b[1;33m\u001b[0m\u001b[1;33m\u001b[0m\u001b[0m\n\u001b[0m",
      "\u001b[1;32me:\\Question Answering\\venv\\lib\\site-packages\\tensorflow\\python\\util\\traceback_utils.py\u001b[0m in \u001b[0;36m?\u001b[1;34m(*args, **kwargs)\u001b[0m\n\u001b[0;32m    151\u001b[0m     \u001b[1;32mexcept\u001b[0m \u001b[0mException\u001b[0m \u001b[1;32mas\u001b[0m \u001b[0me\u001b[0m\u001b[1;33m:\u001b[0m\u001b[1;33m\u001b[0m\u001b[1;33m\u001b[0m\u001b[0m\n\u001b[0;32m    152\u001b[0m       \u001b[0mfiltered_tb\u001b[0m \u001b[1;33m=\u001b[0m \u001b[0m_process_traceback_frames\u001b[0m\u001b[1;33m(\u001b[0m\u001b[0me\u001b[0m\u001b[1;33m.\u001b[0m\u001b[0m__traceback__\u001b[0m\u001b[1;33m)\u001b[0m\u001b[1;33m\u001b[0m\u001b[1;33m\u001b[0m\u001b[0m\n\u001b[0;32m    153\u001b[0m       \u001b[1;32mraise\u001b[0m \u001b[0me\u001b[0m\u001b[1;33m.\u001b[0m\u001b[0mwith_traceback\u001b[0m\u001b[1;33m(\u001b[0m\u001b[0mfiltered_tb\u001b[0m\u001b[1;33m)\u001b[0m \u001b[1;32mfrom\u001b[0m \u001b[1;32mNone\u001b[0m\u001b[1;33m\u001b[0m\u001b[1;33m\u001b[0m\u001b[0m\n\u001b[0;32m    154\u001b[0m     \u001b[1;32mfinally\u001b[0m\u001b[1;33m:\u001b[0m\u001b[1;33m\u001b[0m\u001b[1;33m\u001b[0m\u001b[0m\n\u001b[1;32m--> 155\u001b[1;33m       \u001b[1;32mdel\u001b[0m \u001b[0mfiltered_tb\u001b[0m\u001b[1;33m\u001b[0m\u001b[1;33m\u001b[0m\u001b[0m\n\u001b[0m",
      "\u001b[1;32me:\\Question Answering\\venv\\lib\\site-packages\\tensorflow\\python\\util\\dispatch.py\u001b[0m in \u001b[0;36m?\u001b[1;34m(*args, **kwargs)\u001b[0m\n\u001b[0;32m   1257\u001b[0m \u001b[1;33m\u001b[0m\u001b[0m\n\u001b[0;32m   1258\u001b[0m       \u001b[1;31m# Fallback dispatch system (dispatch v1):\u001b[0m\u001b[1;33m\u001b[0m\u001b[1;33m\u001b[0m\u001b[0m\n\u001b[0;32m   1259\u001b[0m       \u001b[1;32mtry\u001b[0m\u001b[1;33m:\u001b[0m\u001b[1;33m\u001b[0m\u001b[1;33m\u001b[0m\u001b[0m\n\u001b[0;32m   1260\u001b[0m         \u001b[1;32mreturn\u001b[0m \u001b[0mdispatch_target\u001b[0m\u001b[1;33m(\u001b[0m\u001b[1;33m*\u001b[0m\u001b[0margs\u001b[0m\u001b[1;33m,\u001b[0m \u001b[1;33m**\u001b[0m\u001b[0mkwargs\u001b[0m\u001b[1;33m)\u001b[0m\u001b[1;33m\u001b[0m\u001b[1;33m\u001b[0m\u001b[0m\n\u001b[1;32m-> 1261\u001b[1;33m       \u001b[1;32mexcept\u001b[0m \u001b[1;33m(\u001b[0m\u001b[0mTypeError\u001b[0m\u001b[1;33m,\u001b[0m \u001b[0mValueError\u001b[0m\u001b[1;33m)\u001b[0m\u001b[1;33m:\u001b[0m\u001b[1;33m\u001b[0m\u001b[1;33m\u001b[0m\u001b[0m\n\u001b[0m\u001b[0;32m   1262\u001b[0m         \u001b[1;31m# Note: convert_to_eager_tensor currently raises a ValueError, not a\u001b[0m\u001b[1;33m\u001b[0m\u001b[1;33m\u001b[0m\u001b[0m\n\u001b[0;32m   1263\u001b[0m         \u001b[1;31m# TypeError, when given unexpected types.  So we need to catch both.\u001b[0m\u001b[1;33m\u001b[0m\u001b[1;33m\u001b[0m\u001b[0m\n\u001b[0;32m   1264\u001b[0m         \u001b[0mresult\u001b[0m \u001b[1;33m=\u001b[0m \u001b[0mdispatch\u001b[0m\u001b[1;33m(\u001b[0m\u001b[0mop_dispatch_handler\u001b[0m\u001b[1;33m,\u001b[0m \u001b[0margs\u001b[0m\u001b[1;33m,\u001b[0m \u001b[0mkwargs\u001b[0m\u001b[1;33m)\u001b[0m\u001b[1;33m\u001b[0m\u001b[1;33m\u001b[0m\u001b[0m\n",
      "\u001b[1;32me:\\Question Answering\\venv\\lib\\site-packages\\tensorflow\\python\\ops\\math_ops.py\u001b[0m in \u001b[0;36m?\u001b[1;34m(x, y, name)\u001b[0m\n\u001b[0;32m   1481\u001b[0m \u001b[1;33m\u001b[0m\u001b[0m\n\u001b[0;32m   1482\u001b[0m   \u001b[0mRaises\u001b[0m\u001b[1;33m:\u001b[0m\u001b[1;33m\u001b[0m\u001b[1;33m\u001b[0m\u001b[0m\n\u001b[0;32m   1483\u001b[0m     \u001b[0mTypeError\u001b[0m\u001b[1;33m:\u001b[0m \u001b[0mIf\u001b[0m\u001b[0;31m \u001b[0m\u001b[0;31m`\u001b[0m\u001b[0mx\u001b[0m\u001b[0;31m`\u001b[0m \u001b[1;32mand\u001b[0m\u001b[0;31m \u001b[0m\u001b[0;31m`\u001b[0m\u001b[0my\u001b[0m\u001b[0;31m`\u001b[0m \u001b[0mhave\u001b[0m \u001b[0mdifferent\u001b[0m \u001b[0mdtypes\u001b[0m\u001b[1;33m.\u001b[0m\u001b[1;33m\u001b[0m\u001b[1;33m\u001b[0m\u001b[0m\n\u001b[0;32m   1484\u001b[0m   \"\"\"\n\u001b[1;32m-> 1485\u001b[1;33m   \u001b[1;32mreturn\u001b[0m \u001b[0m_truediv_python3\u001b[0m\u001b[1;33m(\u001b[0m\u001b[0mx\u001b[0m\u001b[1;33m,\u001b[0m \u001b[0my\u001b[0m\u001b[1;33m,\u001b[0m \u001b[0mname\u001b[0m\u001b[1;33m)\u001b[0m\u001b[1;33m\u001b[0m\u001b[1;33m\u001b[0m\u001b[0m\n\u001b[0m",
      "\u001b[1;32me:\\Question Answering\\venv\\lib\\site-packages\\tensorflow\\python\\ops\\weak_tensor_ops.py\u001b[0m in \u001b[0;36m?\u001b[1;34m(*args, **kwargs)\u001b[0m\n\u001b[0;32m    140\u001b[0m   \u001b[1;32mdef\u001b[0m \u001b[0mwrapper\u001b[0m\u001b[1;33m(\u001b[0m\u001b[1;33m*\u001b[0m\u001b[0margs\u001b[0m\u001b[1;33m,\u001b[0m \u001b[1;33m**\u001b[0m\u001b[0mkwargs\u001b[0m\u001b[1;33m)\u001b[0m\u001b[1;33m:\u001b[0m\u001b[1;33m\u001b[0m\u001b[1;33m\u001b[0m\u001b[0m\n\u001b[0;32m    141\u001b[0m     \u001b[1;32mif\u001b[0m \u001b[1;32mnot\u001b[0m \u001b[0mops\u001b[0m\u001b[1;33m.\u001b[0m\u001b[0mis_auto_dtype_conversion_enabled\u001b[0m\u001b[1;33m(\u001b[0m\u001b[1;33m)\u001b[0m\u001b[1;33m:\u001b[0m\u001b[1;33m\u001b[0m\u001b[1;33m\u001b[0m\u001b[0m\n\u001b[1;32m--> 142\u001b[1;33m       \u001b[1;32mreturn\u001b[0m \u001b[0mop\u001b[0m\u001b[1;33m(\u001b[0m\u001b[1;33m*\u001b[0m\u001b[0margs\u001b[0m\u001b[1;33m,\u001b[0m \u001b[1;33m**\u001b[0m\u001b[0mkwargs\u001b[0m\u001b[1;33m)\u001b[0m\u001b[1;33m\u001b[0m\u001b[1;33m\u001b[0m\u001b[0m\n\u001b[0m\u001b[0;32m    143\u001b[0m     \u001b[0mbound_arguments\u001b[0m \u001b[1;33m=\u001b[0m \u001b[0msignature\u001b[0m\u001b[1;33m.\u001b[0m\u001b[0mbind\u001b[0m\u001b[1;33m(\u001b[0m\u001b[1;33m*\u001b[0m\u001b[0margs\u001b[0m\u001b[1;33m,\u001b[0m \u001b[1;33m**\u001b[0m\u001b[0mkwargs\u001b[0m\u001b[1;33m)\u001b[0m\u001b[1;33m\u001b[0m\u001b[1;33m\u001b[0m\u001b[0m\n\u001b[0;32m    144\u001b[0m     \u001b[0mbound_arguments\u001b[0m\u001b[1;33m.\u001b[0m\u001b[0mapply_defaults\u001b[0m\u001b[1;33m(\u001b[0m\u001b[1;33m)\u001b[0m\u001b[1;33m\u001b[0m\u001b[1;33m\u001b[0m\u001b[0m\n\u001b[0;32m    145\u001b[0m     \u001b[0mbound_kwargs\u001b[0m \u001b[1;33m=\u001b[0m \u001b[0mbound_arguments\u001b[0m\u001b[1;33m.\u001b[0m\u001b[0marguments\u001b[0m\u001b[1;33m\u001b[0m\u001b[1;33m\u001b[0m\u001b[0m\n",
      "\u001b[1;32me:\\Question Answering\\venv\\lib\\site-packages\\tensorflow\\python\\ops\\math_ops.py\u001b[0m in \u001b[0;36m?\u001b[1;34m(x, y, name)\u001b[0m\n\u001b[0;32m   1419\u001b[0m           f\"of {{{', '.join([repr(x) for x in _TRUEDIV_TABLE.keys()])}}}.\")\n\u001b[0;32m   1420\u001b[0m     \u001b[1;32mif\u001b[0m \u001b[0mdtype\u001b[0m \u001b[1;32mis\u001b[0m \u001b[1;32mnot\u001b[0m \u001b[1;32mNone\u001b[0m\u001b[1;33m:\u001b[0m\u001b[1;33m\u001b[0m\u001b[1;33m\u001b[0m\u001b[0m\n\u001b[0;32m   1421\u001b[0m       \u001b[0mx\u001b[0m \u001b[1;33m=\u001b[0m \u001b[0mcast\u001b[0m\u001b[1;33m(\u001b[0m\u001b[0mx\u001b[0m\u001b[1;33m,\u001b[0m \u001b[0mdtype\u001b[0m\u001b[1;33m)\u001b[0m\u001b[1;33m\u001b[0m\u001b[1;33m\u001b[0m\u001b[0m\n\u001b[0;32m   1422\u001b[0m       \u001b[0my\u001b[0m \u001b[1;33m=\u001b[0m \u001b[0mcast\u001b[0m\u001b[1;33m(\u001b[0m\u001b[0my\u001b[0m\u001b[1;33m,\u001b[0m \u001b[0mdtype\u001b[0m\u001b[1;33m)\u001b[0m\u001b[1;33m\u001b[0m\u001b[1;33m\u001b[0m\u001b[0m\n\u001b[1;32m-> 1423\u001b[1;33m     \u001b[1;32mreturn\u001b[0m \u001b[0mgen_math_ops\u001b[0m\u001b[1;33m.\u001b[0m\u001b[0mreal_div\u001b[0m\u001b[1;33m(\u001b[0m\u001b[0mx\u001b[0m\u001b[1;33m,\u001b[0m \u001b[0my\u001b[0m\u001b[1;33m,\u001b[0m \u001b[0mname\u001b[0m\u001b[1;33m=\u001b[0m\u001b[0mname\u001b[0m\u001b[1;33m)\u001b[0m\u001b[1;33m\u001b[0m\u001b[1;33m\u001b[0m\u001b[0m\n\u001b[0m",
      "\u001b[1;32me:\\Question Answering\\venv\\lib\\site-packages\\tensorflow\\python\\ops\\weak_tensor_ops.py\u001b[0m in \u001b[0;36m?\u001b[1;34m(*args, **kwargs)\u001b[0m\n\u001b[0;32m    140\u001b[0m   \u001b[1;32mdef\u001b[0m \u001b[0mwrapper\u001b[0m\u001b[1;33m(\u001b[0m\u001b[1;33m*\u001b[0m\u001b[0margs\u001b[0m\u001b[1;33m,\u001b[0m \u001b[1;33m**\u001b[0m\u001b[0mkwargs\u001b[0m\u001b[1;33m)\u001b[0m\u001b[1;33m:\u001b[0m\u001b[1;33m\u001b[0m\u001b[1;33m\u001b[0m\u001b[0m\n\u001b[0;32m    141\u001b[0m     \u001b[1;32mif\u001b[0m \u001b[1;32mnot\u001b[0m \u001b[0mops\u001b[0m\u001b[1;33m.\u001b[0m\u001b[0mis_auto_dtype_conversion_enabled\u001b[0m\u001b[1;33m(\u001b[0m\u001b[1;33m)\u001b[0m\u001b[1;33m:\u001b[0m\u001b[1;33m\u001b[0m\u001b[1;33m\u001b[0m\u001b[0m\n\u001b[1;32m--> 142\u001b[1;33m       \u001b[1;32mreturn\u001b[0m \u001b[0mop\u001b[0m\u001b[1;33m(\u001b[0m\u001b[1;33m*\u001b[0m\u001b[0margs\u001b[0m\u001b[1;33m,\u001b[0m \u001b[1;33m**\u001b[0m\u001b[0mkwargs\u001b[0m\u001b[1;33m)\u001b[0m\u001b[1;33m\u001b[0m\u001b[1;33m\u001b[0m\u001b[0m\n\u001b[0m\u001b[0;32m    143\u001b[0m     \u001b[0mbound_arguments\u001b[0m \u001b[1;33m=\u001b[0m \u001b[0msignature\u001b[0m\u001b[1;33m.\u001b[0m\u001b[0mbind\u001b[0m\u001b[1;33m(\u001b[0m\u001b[1;33m*\u001b[0m\u001b[0margs\u001b[0m\u001b[1;33m,\u001b[0m \u001b[1;33m**\u001b[0m\u001b[0mkwargs\u001b[0m\u001b[1;33m)\u001b[0m\u001b[1;33m\u001b[0m\u001b[1;33m\u001b[0m\u001b[0m\n\u001b[0;32m    144\u001b[0m     \u001b[0mbound_arguments\u001b[0m\u001b[1;33m.\u001b[0m\u001b[0mapply_defaults\u001b[0m\u001b[1;33m(\u001b[0m\u001b[1;33m)\u001b[0m\u001b[1;33m\u001b[0m\u001b[1;33m\u001b[0m\u001b[0m\n\u001b[0;32m    145\u001b[0m     \u001b[0mbound_kwargs\u001b[0m \u001b[1;33m=\u001b[0m \u001b[0mbound_arguments\u001b[0m\u001b[1;33m.\u001b[0m\u001b[0marguments\u001b[0m\u001b[1;33m\u001b[0m\u001b[1;33m\u001b[0m\u001b[0m\n",
      "\u001b[1;32me:\\Question Answering\\venv\\lib\\site-packages\\tensorflow\\python\\ops\\gen_math_ops.py\u001b[0m in \u001b[0;36m?\u001b[1;34m(x, y, name)\u001b[0m\n\u001b[0;32m   8163\u001b[0m         _ctx, \"RealDiv\", name, x, y)\n\u001b[0;32m   8164\u001b[0m       \u001b[1;32mreturn\u001b[0m \u001b[0m_result\u001b[0m\u001b[1;33m\u001b[0m\u001b[1;33m\u001b[0m\u001b[0m\n\u001b[0;32m   8165\u001b[0m     \u001b[1;32mexcept\u001b[0m \u001b[0m_core\u001b[0m\u001b[1;33m.\u001b[0m\u001b[0m_NotOkStatusException\u001b[0m \u001b[1;32mas\u001b[0m \u001b[0me\u001b[0m\u001b[1;33m:\u001b[0m\u001b[1;33m\u001b[0m\u001b[1;33m\u001b[0m\u001b[0m\n\u001b[0;32m   8166\u001b[0m       \u001b[0m_ops\u001b[0m\u001b[1;33m.\u001b[0m\u001b[0mraise_from_not_ok_status\u001b[0m\u001b[1;33m(\u001b[0m\u001b[0me\u001b[0m\u001b[1;33m,\u001b[0m \u001b[0mname\u001b[0m\u001b[1;33m)\u001b[0m\u001b[1;33m\u001b[0m\u001b[1;33m\u001b[0m\u001b[0m\n\u001b[1;32m-> 8167\u001b[1;33m     \u001b[1;32mexcept\u001b[0m \u001b[0m_core\u001b[0m\u001b[1;33m.\u001b[0m\u001b[0m_FallbackException\u001b[0m\u001b[1;33m:\u001b[0m\u001b[1;33m\u001b[0m\u001b[1;33m\u001b[0m\u001b[0m\n\u001b[0m\u001b[0;32m   8168\u001b[0m       \u001b[1;32mpass\u001b[0m\u001b[1;33m\u001b[0m\u001b[1;33m\u001b[0m\u001b[0m\n\u001b[0;32m   8169\u001b[0m     \u001b[1;32mtry\u001b[0m\u001b[1;33m:\u001b[0m\u001b[1;33m\u001b[0m\u001b[1;33m\u001b[0m\u001b[0m\n\u001b[0;32m   8170\u001b[0m       _result = _dispatcher_for_real_div(\n",
      "\u001b[1;31mKeyboardInterrupt\u001b[0m: "
     ]
    }
   ],
   "source": [
    "EPOCHS = 3\n",
    "\n",
    "loss_fn1 = tf.keras.losses.SparseCategoricalCrossentropy( from_logits=True)\n",
    "loss_fn2 = tf.keras.losses.SparseCategoricalCrossentropy( from_logits=True)\n",
    "opt = tf.keras.optimizers.Adam(learning_rate=3e-5)\n",
    "\n",
    "losses = []\n",
    "for epoch in range(EPOCHS):\n",
    "    print(\"Starting epoch: %d\"% epoch )\n",
    "    for step, (x_batch_train, y_batch_train) in enumerate(train_tfdataset):\n",
    "        with tf.GradientTape() as tape:\n",
    "            answer_start_scores, answer_end_scores = model(x_batch_train)\n",
    "            loss_start = loss_fn1(y_batch_train['start_positions'], answer_start_scores)\n",
    "            loss_end = loss_fn2(y_batch_train['end_positions'], answer_end_scores)\n",
    "            loss = 0.5 * (loss_start + loss_end)\n",
    "        losses.append(loss)\n",
    "        grads = tape.gradient(loss, model.trainable_weights)\n",
    "        opt.apply_gradients(zip(grads, model.trainable_weights))\n",
    "      \n",
    "        train_accuracy_start = tf.keras.metrics.sparse_categorical_accuracy(y_batch_train['start_positions'], answer_start_scores)\n",
    "        train_accuracy_end =  tf.keras.metrics.sparse_categorical_accuracy(y_batch_train['end_positions'], answer_end_scores) \n",
    "        # Khoảng từ 0 -> 1 connect giữa đoán đúng vị trí đầu và cuối\n",
    "        train_accuracy = tf.reduce_mean((train_accuracy_start + train_accuracy_end) / 2.0)\n",
    "        if step % 20 == 0:\n",
    "            print(\"Training loss (for one batch) at step %d: %.4f\"% (step, \n",
    "                                                                   float(loss_start)))\n",
    "            print(\"Training accuracy (for one batch) at step %d: %.4f\"% (step, train_accuracy))"
   ]
  },
  {
   "cell_type": "code",
   "execution_count": null,
   "metadata": {},
   "outputs": [
    {
     "data": {
      "text/plain": [
       "[<matplotlib.lines.Line2D at 0x223d1ddf280>]"
      ]
     },
     "execution_count": 37,
     "metadata": {},
     "output_type": "execute_result"
    },
    {
     "data": {
      "image/png": "[encoded data removed]",
      "text/plain": [
       "<Figure size 640x480 with 1 Axes>"
      ]
     },
     "metadata": {},
     "output_type": "display_data"
    }
   ],
   "source": [
    "from matplotlib.pyplot import plot\n",
    "\n",
    "plot(losses)"
   ]
  },
  {
   "cell_type": "code",
   "execution_count": null,
   "metadata": {},
   "outputs": [
    {
     "name": "stdout",
     "output_type": "stream",
     "text": [
      "(1, 19) (1, 19)\n",
      "tf.Tensor(\n",
      "[[-11.604739   -8.120051   -4.455324  -10.80796   -11.059621   -9.934911\n",
      "   -4.543705   -7.9648046 -11.035044  -10.831549   -9.423824  -12.258655\n",
      "  -11.18893   -10.150071  -11.919167  -10.597833  -12.103602  -13.276805\n",
      "  -11.188958 ]], shape=(1, 19), dtype=float32)\n",
      "19\n",
      "['[CLS]', 'my', 'name', 'is', 'son', '.', 'her', 'name', 'is', 'lin', '##h', '.', '[SEP]', 'what', 'is', 'your', 'name', '?', '[SEP]']\n",
      "tf.Tensor(2, shape=(), dtype=int64)   tf.Tensor(2, shape=(), dtype=int64)\n",
      "What is your name? Name\n"
     ]
    }
   ],
   "source": [
    "question, text = 'What is your name?','My name is Son. Her name is Linh.'\n",
    "input_dict = tokenizer(text, question, return_tensors='tf')\n",
    "outputs = model(input_dict)\n",
    "start_logits = outputs[0]\n",
    "end_logits = outputs[1]\n",
    "print(start_logits.shape, end_logits.shape)\n",
    "print(start_logits)\n",
    "all_tokens = tokenizer.convert_ids_to_tokens(input_dict[\"input_ids\"].numpy()[0])\n",
    "print(len(all_tokens))\n",
    "print(all_tokens)\n",
    "print(tf.math.argmax(start_logits, 1)[0], ' ', tf.math.argmax(end_logits, 1)[0])\n",
    "answer = ' '.join(all_tokens[tf.math.argmax(start_logits, 1)[0] : tf.math.argmax(end_logits, 1)[0]+1])\n",
    "print(question, answer.capitalize())"
   ]
  },
  {
   "cell_type": "code",
   "execution_count": 103,
   "metadata": {},
   "outputs": [],
   "source": [
    "from sklearn.metrics import f1_score, accuracy_score\n",
    "def compute_metrics(pred):\n",
    "    start_labels = pred.label_ids[0]\n",
    "    start_preds = pred.predictions[0].argmax(-1)\n",
    "    end_labels = pred.label_ids[1]\n",
    "    end_preds = pred.predictions[1].argmax(-1)\n",
    "    \n",
    "    f1_start = f1_score(start_labels, start_preds, average='macro')\n",
    "    f1_end = f1_score(end_labels, end_preds, average='macro')\n",
    "\n",
    "    acc_start = accuracy_score(start_labels, start_preds)\n",
    "    acc_end = accuracy_score(end_labels, end_preds)\n",
    "    return {\n",
    "        'f1_start': f1_start,\n",
    "        'f1_end': f1_end,\n",
    "        'accuracy_start': acc_start,\n",
    "        'accuracy_end': acc_end\n",
    "    }"
   ]
  },
  {
   "cell_type": "code",
   "execution_count": 126,
   "metadata": {},
   "outputs": [],
   "source": [
    "pytorch_model = DistilBertForQuestionAnswering.from_pretrained(\"E:/Question Answering/model/pytorch/\")"
   ]
  },
  {
   "cell_type": "code",
   "execution_count": 127,
   "metadata": {},
   "outputs": [
    {
     "name": "stderr",
     "output_type": "stream",
     "text": [
      "  2%|▏         | 49/2500 [00:17<01:51, 21.90it/s]"
     ]
    }
   ],
   "source": [
    "columns_to_return = ['input_ids','attention_mask', 'start_positions', 'end_positions']\n",
    "train_ds.set_format(type='pt', columns=columns_to_return)\n",
    "test_ds.set_format(type='pt', columns=columns_to_return)"
   ]
  },
  {
   "cell_type": "code",
   "execution_count": 80,
   "metadata": {},
   "outputs": [
    {
     "data": {
      "text/plain": [
       "Dataset({\n",
       "    features: ['question', 'sentences', 'answer', 'str_idx', 'end_idx', 'input_ids', 'attention_mask', 'start_positions', 'end_positions'],\n",
       "    num_rows: 1000\n",
       "})"
      ]
     },
     "execution_count": 80,
     "metadata": {},
     "output_type": "execute_result"
    }
   ],
   "source": [
    "train_ds"
   ]
  },
  {
   "cell_type": "code",
   "execution_count": 124,
   "metadata": {},
   "outputs": [
    {
     "name": "stderr",
     "output_type": "stream",
     "text": [
      " 41%|████      | 515/1250 [1:11:54<1:42:37,  8.38s/it]\n",
      " 39%|███▉      | 49/125 [00:02<00:03, 21.83it/s]\n",
      " 42%|████▏     | 52/125 [00:02<00:03, 21.56it/s] "
     ]
    },
    {
     "name": "stdout",
     "output_type": "stream",
     "text": [
      "{'loss': 1.6807, 'grad_norm': 9.816168785095215, 'learning_rate': 3.571428571428572e-05, 'epoch': 0.4}\n"
     ]
    },
    {
     "name": "stderr",
     "output_type": "stream",
     "text": [
      " 80%|████████  | 100/125 [00:04<00:01, 21.59it/s]\n",
      " 82%|████████▏ | 103/125 [00:05<00:01, 21.09it/s]"
     ]
    },
    {
     "name": "stdout",
     "output_type": "stream",
     "text": [
      "{'loss': 0.6713, 'grad_norm': 9.597490310668945, 'learning_rate': 1.1904761904761905e-05, 'epoch': 0.8}\n"
     ]
    },
    {
     "name": "stderr",
     "output_type": "stream",
     "text": [
      " 99%|█████████▉| 124/125 [00:06<00:00, 21.51it/s]\n",
      "100%|██████████| 125/125 [00:06<00:00, 20.46it/s]\n"
     ]
    },
    {
     "name": "stdout",
     "output_type": "stream",
     "text": [
      "{'train_runtime': 6.1086, 'train_samples_per_second': 163.704, 'train_steps_per_second': 20.463, 'train_loss': 1.0750540924072265, 'epoch': 1.0}\n"
     ]
    },
    {
     "name": "stderr",
     "output_type": "stream",
     "text": [
      " 38%|███▊      | 48/125 [00:02<00:03, 22.01it/s]\n",
      " 43%|████▎     | 54/125 [00:02<00:03, 21.54it/s] "
     ]
    },
    {
     "name": "stdout",
     "output_type": "stream",
     "text": [
      "{'loss': 0.6963, 'grad_norm': 16.491893768310547, 'learning_rate': 3.571428571428572e-05, 'epoch': 0.4}\n"
     ]
    },
    {
     "name": "stderr",
     "output_type": "stream",
     "text": [
      " 79%|███████▉  | 99/125 [00:04<00:01, 21.96it/s]\n",
      " 82%|████████▏ | 102/125 [00:04<00:01, 21.02it/s]"
     ]
    },
    {
     "name": "stdout",
     "output_type": "stream",
     "text": [
      "{'loss': 0.4584, 'grad_norm': 15.90575885772705, 'learning_rate': 1.1904761904761905e-05, 'epoch': 0.8}\n"
     ]
    },
    {
     "name": "stderr",
     "output_type": "stream",
     "text": [
      " 98%|█████████▊| 123/125 [00:05<00:00, 22.30it/s]\n",
      "100%|██████████| 125/125 [00:05<00:00, 21.77it/s]\n"
     ]
    },
    {
     "name": "stdout",
     "output_type": "stream",
     "text": [
      "{'train_runtime': 5.7391, 'train_samples_per_second': 174.243, 'train_steps_per_second': 21.78, 'train_loss': 0.5548460845947265, 'epoch': 1.0}\n"
     ]
    },
    {
     "name": "stderr",
     "output_type": "stream",
     "text": [
      " 38%|███▊      | 48/125 [00:02<00:03, 22.26it/s]\n",
      " 43%|████▎     | 54/125 [00:02<00:03, 20.41it/s] "
     ]
    },
    {
     "name": "stdout",
     "output_type": "stream",
     "text": [
      "{'loss': 0.4809, 'grad_norm': 14.018754005432129, 'learning_rate': 3.571428571428572e-05, 'epoch': 0.4}\n"
     ]
    },
    {
     "name": "stderr",
     "output_type": "stream",
     "text": [
      " 79%|███████▉  | 99/125 [00:04<00:01, 21.07it/s]\n",
      " 82%|████████▏ | 102/125 [00:04<00:01, 20.73it/s]"
     ]
    },
    {
     "name": "stdout",
     "output_type": "stream",
     "text": [
      "{'loss': 0.3222, 'grad_norm': 4.151683330535889, 'learning_rate': 1.1904761904761905e-05, 'epoch': 0.8}\n"
     ]
    },
    {
     "name": "stderr",
     "output_type": "stream",
     "text": [
      " 98%|█████████▊| 123/125 [00:05<00:00, 21.81it/s]\n",
      "100%|██████████| 125/125 [00:05<00:00, 21.47it/s]\n"
     ]
    },
    {
     "name": "stdout",
     "output_type": "stream",
     "text": [
      "{'train_runtime': 5.8175, 'train_samples_per_second': 171.894, 'train_steps_per_second': 21.487, 'train_loss': 0.37759871673583983, 'epoch': 1.0}\n"
     ]
    },
    {
     "name": "stderr",
     "output_type": "stream",
     "text": [
      " 38%|███▊      | 48/125 [00:02<00:03, 21.87it/s]\n",
      " 43%|████▎     | 54/125 [00:02<00:03, 21.53it/s] "
     ]
    },
    {
     "name": "stdout",
     "output_type": "stream",
     "text": [
      "{'loss': 0.2659, 'grad_norm': 14.456275939941406, 'learning_rate': 3.571428571428572e-05, 'epoch': 0.4}\n"
     ]
    },
    {
     "name": "stderr",
     "output_type": "stream",
     "text": [
      " 79%|███████▉  | 99/125 [00:04<00:01, 21.57it/s]\n",
      " 82%|████████▏ | 102/125 [00:04<00:01, 20.82it/s]"
     ]
    },
    {
     "name": "stdout",
     "output_type": "stream",
     "text": [
      "{'loss': 0.1291, 'grad_norm': 0.4243188202381134, 'learning_rate': 1.1904761904761905e-05, 'epoch': 0.8}\n"
     ]
    },
    {
     "name": "stderr",
     "output_type": "stream",
     "text": [
      " 98%|█████████▊| 123/125 [00:05<00:00, 22.39it/s]\n",
      "100%|██████████| 125/125 [00:05<00:00, 21.86it/s]\n"
     ]
    },
    {
     "name": "stdout",
     "output_type": "stream",
     "text": [
      "{'train_runtime': 5.718, 'train_samples_per_second': 174.886, 'train_steps_per_second': 21.861, 'train_loss': 0.1724005699157715, 'epoch': 1.0}\n"
     ]
    },
    {
     "name": "stderr",
     "output_type": "stream",
     "text": [
      " 38%|███▊      | 48/125 [00:02<00:03, 21.89it/s]\n",
      " 43%|████▎     | 54/125 [00:02<00:03, 21.49it/s] "
     ]
    },
    {
     "name": "stdout",
     "output_type": "stream",
     "text": [
      "{'loss': 0.0514, 'grad_norm': 0.07474280148744583, 'learning_rate': 3.571428571428572e-05, 'epoch': 0.4}\n"
     ]
    },
    {
     "name": "stderr",
     "output_type": "stream",
     "text": [
      " 79%|███████▉  | 99/125 [00:04<00:01, 21.86it/s]\n",
      " 82%|████████▏ | 102/125 [00:04<00:01, 21.49it/s]"
     ]
    },
    {
     "name": "stdout",
     "output_type": "stream",
     "text": [
      "{'loss': 0.0326, 'grad_norm': 0.0015759102534502745, 'learning_rate': 1.1904761904761905e-05, 'epoch': 0.8}\n"
     ]
    },
    {
     "name": "stderr",
     "output_type": "stream",
     "text": [
      " 98%|█████████▊| 123/125 [00:05<00:00, 21.92it/s]\n",
      "100%|██████████| 125/125 [00:05<00:00, 21.75it/s]\n"
     ]
    },
    {
     "name": "stdout",
     "output_type": "stream",
     "text": [
      "{'train_runtime': 5.7498, 'train_samples_per_second': 173.919, 'train_steps_per_second': 21.74, 'train_loss': 0.03501395463943482, 'epoch': 1.0}\n"
     ]
    },
    {
     "name": "stderr",
     "output_type": "stream",
     "text": [
      " 38%|███▊      | 48/125 [00:02<00:03, 22.11it/s]\n",
      " 43%|████▎     | 54/125 [00:02<00:03, 21.45it/s] "
     ]
    },
    {
     "name": "stdout",
     "output_type": "stream",
     "text": [
      "{'loss': 0.0532, 'grad_norm': 80.40203857421875, 'learning_rate': 3.571428571428572e-05, 'epoch': 0.4}\n"
     ]
    },
    {
     "name": "stderr",
     "output_type": "stream",
     "text": [
      " 79%|███████▉  | 99/125 [00:04<00:01, 22.01it/s]\n",
      " 82%|████████▏ | 102/125 [00:04<00:01, 21.03it/s]"
     ]
    },
    {
     "name": "stdout",
     "output_type": "stream",
     "text": [
      "{'loss': 0.0536, 'grad_norm': 0.0007646073936484754, 'learning_rate': 1.1904761904761905e-05, 'epoch': 0.8}\n"
     ]
    },
    {
     "name": "stderr",
     "output_type": "stream",
     "text": [
      " 98%|█████████▊| 123/125 [00:05<00:00, 21.72it/s]\n",
      "100%|██████████| 125/125 [00:05<00:00, 21.57it/s]\n"
     ]
    },
    {
     "name": "stdout",
     "output_type": "stream",
     "text": [
      "{'train_runtime': 5.7751, 'train_samples_per_second': 173.158, 'train_steps_per_second': 21.645, 'train_loss': 0.04299908995628357, 'epoch': 1.0}\n"
     ]
    },
    {
     "name": "stderr",
     "output_type": "stream",
     "text": [
      " 38%|███▊      | 48/125 [00:02<00:03, 21.90it/s]\n",
      " 43%|████▎     | 54/125 [00:02<00:03, 21.03it/s] "
     ]
    },
    {
     "name": "stdout",
     "output_type": "stream",
     "text": [
      "{'loss': 0.0154, 'grad_norm': 0.014766404405236244, 'learning_rate': 3.571428571428572e-05, 'epoch': 0.4}\n"
     ]
    },
    {
     "name": "stderr",
     "output_type": "stream",
     "text": [
      " 79%|███████▉  | 99/125 [00:04<00:01, 22.19it/s]\n",
      " 82%|████████▏ | 102/125 [00:04<00:01, 21.15it/s]"
     ]
    },
    {
     "name": "stdout",
     "output_type": "stream",
     "text": [
      "{'loss': 0.0295, 'grad_norm': 0.016222666949033737, 'learning_rate': 1.1904761904761905e-05, 'epoch': 0.8}\n"
     ]
    },
    {
     "name": "stderr",
     "output_type": "stream",
     "text": [
      " 98%|█████████▊| 123/125 [00:05<00:00, 22.35it/s]\n",
      "100%|██████████| 125/125 [00:05<00:00, 21.73it/s]\n"
     ]
    },
    {
     "name": "stdout",
     "output_type": "stream",
     "text": [
      "{'train_runtime': 5.744, 'train_samples_per_second': 174.093, 'train_steps_per_second': 21.762, 'train_loss': 0.018009325284510852, 'epoch': 1.0}\n"
     ]
    },
    {
     "name": "stderr",
     "output_type": "stream",
     "text": [
      " 38%|███▊      | 48/125 [00:02<00:03, 22.17it/s]\n",
      " 43%|████▎     | 54/125 [00:02<00:03, 21.11it/s] "
     ]
    },
    {
     "name": "stdout",
     "output_type": "stream",
     "text": [
      "{'loss': 0.013, 'grad_norm': 0.0012670664582401514, 'learning_rate': 3.571428571428572e-05, 'epoch': 0.4}\n"
     ]
    },
    {
     "name": "stderr",
     "output_type": "stream",
     "text": [
      " 79%|███████▉  | 99/125 [00:04<00:01, 22.01it/s]\n",
      " 82%|████████▏ | 102/125 [00:04<00:01, 18.99it/s]"
     ]
    },
    {
     "name": "stdout",
     "output_type": "stream",
     "text": [
      "{'loss': 0.0124, 'grad_norm': 0.0015511197270825505, 'learning_rate': 1.1904761904761905e-05, 'epoch': 0.8}\n"
     ]
    },
    {
     "name": "stderr",
     "output_type": "stream",
     "text": [
      " 98%|█████████▊| 123/125 [00:05<00:00, 21.97it/s]\n",
      "100%|██████████| 125/125 [00:05<00:00, 21.56it/s]\n"
     ]
    },
    {
     "name": "stdout",
     "output_type": "stream",
     "text": [
      "{'train_runtime': 5.7905, 'train_samples_per_second': 172.697, 'train_steps_per_second': 21.587, 'train_loss': 0.010190825030207634, 'epoch': 1.0}\n"
     ]
    },
    {
     "name": "stderr",
     "output_type": "stream",
     "text": [
      " 38%|███▊      | 48/125 [00:02<00:03, 22.52it/s]\n",
      " 43%|████▎     | 54/125 [00:02<00:03, 21.88it/s] "
     ]
    },
    {
     "name": "stdout",
     "output_type": "stream",
     "text": [
      "{'loss': 0.0573, 'grad_norm': 0.006719245109707117, 'learning_rate': 3.571428571428572e-05, 'epoch': 0.4}\n"
     ]
    },
    {
     "name": "stderr",
     "output_type": "stream",
     "text": [
      " 79%|███████▉  | 99/125 [00:04<00:01, 22.18it/s]\n",
      " 84%|████████▍ | 105/125 [00:04<00:00, 21.77it/s]"
     ]
    },
    {
     "name": "stdout",
     "output_type": "stream",
     "text": [
      "{'loss': 0.0283, 'grad_norm': 0.0007284619496203959, 'learning_rate': 1.1904761904761905e-05, 'epoch': 0.8}\n"
     ]
    },
    {
     "name": "stderr",
     "output_type": "stream",
     "text": [
      " 98%|█████████▊| 123/125 [00:05<00:00, 21.86it/s]\n",
      "100%|██████████| 125/125 [00:05<00:00, 21.89it/s]\n"
     ]
    },
    {
     "name": "stdout",
     "output_type": "stream",
     "text": [
      "{'train_runtime': 5.6994, 'train_samples_per_second': 175.458, 'train_steps_per_second': 21.932, 'train_loss': 0.034994877934455874, 'epoch': 1.0}\n"
     ]
    },
    {
     "name": "stderr",
     "output_type": "stream",
     "text": [
      " 38%|███▊      | 48/125 [00:02<00:03, 22.58it/s]\n",
      " 43%|████▎     | 54/125 [00:02<00:03, 21.38it/s] "
     ]
    },
    {
     "name": "stdout",
     "output_type": "stream",
     "text": [
      "{'loss': 0.0035, 'grad_norm': 0.04047146067023277, 'learning_rate': 3.571428571428572e-05, 'epoch': 0.4}\n"
     ]
    },
    {
     "name": "stderr",
     "output_type": "stream",
     "text": [
      " 79%|███████▉  | 99/125 [00:04<00:01, 22.07it/s]\n",
      " 82%|████████▏ | 102/125 [00:04<00:01, 20.93it/s]"
     ]
    },
    {
     "name": "stdout",
     "output_type": "stream",
     "text": [
      "{'loss': 0.0015, 'grad_norm': 0.00036460935370996594, 'learning_rate': 1.1904761904761905e-05, 'epoch': 0.8}\n"
     ]
    },
    {
     "name": "stderr",
     "output_type": "stream",
     "text": [
      " 98%|█████████▊| 123/125 [00:05<00:00, 21.85it/s]\n",
      "100%|██████████| 125/125 [00:05<00:00, 21.81it/s]"
     ]
    },
    {
     "name": "stdout",
     "output_type": "stream",
     "text": [
      "{'train_runtime': 5.7332, 'train_samples_per_second': 174.422, 'train_steps_per_second': 21.803, 'train_loss': 0.006370832204818725, 'epoch': 1.0}\n"
     ]
    },
    {
     "name": "stderr",
     "output_type": "stream",
     "text": [
      "\n"
     ]
    }
   ],
   "source": [
    "from torch.utils.tensorboard import SummaryWriter\n",
    "\n",
    "# Create a SummaryWriter\n",
    "writer = SummaryWriter('E:/Question Answering/QA/tb_logs')\n",
    "\n",
    "training_args = TrainingArguments(\n",
    "    output_dir='results',          \n",
    "    overwrite_output_dir=True,\n",
    "    num_train_epochs=1,              \n",
    "    per_device_train_batch_size=8,  \n",
    "    per_device_eval_batch_size=8,   \n",
    "    warmup_steps=20,                \n",
    "    weight_decay=0.01,               \n",
    "    logging_dir=\"E:/Question Answering/QA/tb_logs\",            \n",
    "    logging_steps=50,\n",
    ")\n",
    "\n",
    "trainer = Trainer(\n",
    "    model=pytorch_model,                 \n",
    "    args=training_args,                  \n",
    "    train_dataset=train_ds,         \n",
    "    eval_dataset=test_ds,\n",
    "    compute_metrics=compute_metrics             \n",
    ")\n",
    "\n",
    "# Train the model and write loss to the TensorBoard\n",
    "for epoch in range(10):\n",
    "    trainer.train()\n",
    "    loss = [log for log in trainer.state.log_history if 'loss' in log][-1]['loss']\n",
    "    writer.add_scalar('Loss/train', loss, epoch)\n",
    "\n",
    "# Don't forget to close the writer\n",
    "writer.close()"
   ]
  },
  {
   "cell_type": "code",
   "execution_count": 128,
   "metadata": {},
   "outputs": [
    {
     "name": "stderr",
     "output_type": "stream",
     "text": [
      " 81%|████████  | 101/125 [06:05<01:26,  3.62s/it]\n",
      "\n",
      "  2%|▏         | 49/2500 [00:22<01:51, 21.90it/s]"
     ]
    },
    {
     "name": "stdout",
     "output_type": "stream",
     "text": [
      "{'loss': 1.6502, 'grad_norm': 6.058170795440674, 'learning_rate': 4.939516129032259e-05, 'epoch': 0.4}\n"
     ]
    },
    {
     "name": "stderr",
     "output_type": "stream",
     "text": [
      "\n",
      "  2%|▏         | 49/2500 [00:24<01:51, 21.90it/s]"
     ]
    },
    {
     "name": "stdout",
     "output_type": "stream",
     "text": [
      "{'loss': 0.7729, 'grad_norm': 4.153200149536133, 'learning_rate': 4.8387096774193554e-05, 'epoch': 0.8}\n"
     ]
    },
    {
     "name": "stderr",
     "output_type": "stream",
     "text": [
      "\n",
      "  2%|▏         | 49/2500 [00:27<01:51, 21.90it/s] "
     ]
    },
    {
     "name": "stdout",
     "output_type": "stream",
     "text": [
      "{'loss': 0.6742, 'grad_norm': 9.911105155944824, 'learning_rate': 4.737903225806452e-05, 'epoch': 1.2}\n"
     ]
    },
    {
     "name": "stderr",
     "output_type": "stream",
     "text": [
      "\n",
      "  2%|▏         | 49/2500 [00:29<01:51, 21.90it/s] "
     ]
    },
    {
     "name": "stdout",
     "output_type": "stream",
     "text": [
      "{'loss': 0.6137, 'grad_norm': 118.36365509033203, 'learning_rate': 4.637096774193548e-05, 'epoch': 1.6}\n"
     ]
    },
    {
     "name": "stderr",
     "output_type": "stream",
     "text": [
      "\n",
      "  2%|▏         | 49/2500 [00:31<01:51, 21.90it/s] "
     ]
    },
    {
     "name": "stdout",
     "output_type": "stream",
     "text": [
      "{'loss': 0.424, 'grad_norm': 19.05754852294922, 'learning_rate': 4.5362903225806455e-05, 'epoch': 2.0}\n"
     ]
    },
    {
     "name": "stderr",
     "output_type": "stream",
     "text": [
      "\n",
      "  2%|▏         | 49/2500 [00:33<01:51, 21.90it/s] "
     ]
    },
    {
     "name": "stdout",
     "output_type": "stream",
     "text": [
      "{'loss': 0.3748, 'grad_norm': 3.9264936447143555, 'learning_rate': 4.435483870967742e-05, 'epoch': 2.4}\n"
     ]
    },
    {
     "name": "stderr",
     "output_type": "stream",
     "text": [
      "\n",
      "  2%|▏         | 49/2500 [00:36<01:51, 21.90it/s] \n"
     ]
    },
    {
     "name": "stdout",
     "output_type": "stream",
     "text": [
      "{'loss': 0.1683, 'grad_norm': 0.18162815272808075, 'learning_rate': 4.334677419354839e-05, 'epoch': 2.8}\n"
     ]
    },
    {
     "name": "stderr",
     "output_type": "stream",
     "text": [
      " 14%|█▍        | 354/2500 [00:16<01:39, 21.63it/s]\u001b[A\n",
      "  2%|▏         | 49/2500 [00:38<01:51, 21.90it/s] "
     ]
    },
    {
     "name": "stdout",
     "output_type": "stream",
     "text": [
      "{'loss': 0.0974, 'grad_norm': 0.13605321943759918, 'learning_rate': 4.2338709677419356e-05, 'epoch': 3.2}\n"
     ]
    },
    {
     "name": "stderr",
     "output_type": "stream",
     "text": [
      "\n",
      "  2%|▏         | 49/2500 [00:40<01:51, 21.90it/s] "
     ]
    },
    {
     "name": "stdout",
     "output_type": "stream",
     "text": [
      "{'loss': 0.0763, 'grad_norm': 0.022437799721956253, 'learning_rate': 4.133064516129033e-05, 'epoch': 3.6}\n"
     ]
    },
    {
     "name": "stderr",
     "output_type": "stream",
     "text": [
      "\n",
      "  2%|▏         | 49/2500 [00:43<01:51, 21.90it/s] Checkpoint destination directory results\\checkpoint-500 already exists and is non-empty. Saving will proceed but saved results may be invalid.\n"
     ]
    },
    {
     "name": "stdout",
     "output_type": "stream",
     "text": [
      "{'loss': 0.0528, 'grad_norm': 0.0511326789855957, 'learning_rate': 4.032258064516129e-05, 'epoch': 4.0}\n"
     ]
    },
    {
     "name": "stderr",
     "output_type": "stream",
     "text": [
      "\n",
      "  2%|▏         | 49/2500 [00:46<01:51, 21.90it/s] "
     ]
    },
    {
     "name": "stdout",
     "output_type": "stream",
     "text": [
      "{'loss': 0.0021, 'grad_norm': 0.03871135413646698, 'learning_rate': 3.931451612903226e-05, 'epoch': 4.4}\n"
     ]
    },
    {
     "name": "stderr",
     "output_type": "stream",
     "text": [
      "\n",
      "  2%|▏         | 49/2500 [00:48<01:51, 21.90it/s] "
     ]
    },
    {
     "name": "stdout",
     "output_type": "stream",
     "text": [
      "{'loss': 0.0281, 'grad_norm': 3.233992099761963, 'learning_rate': 3.8306451612903224e-05, 'epoch': 4.8}\n"
     ]
    },
    {
     "name": "stderr",
     "output_type": "stream",
     "text": [
      "\n",
      "  2%|▏         | 49/2500 [00:50<01:51, 21.90it/s] \n"
     ]
    },
    {
     "name": "stdout",
     "output_type": "stream",
     "text": [
      "{'loss': 0.018, 'grad_norm': 0.22361379861831665, 'learning_rate': 3.72983870967742e-05, 'epoch': 5.2}\n"
     ]
    },
    {
     "name": "stderr",
     "output_type": "stream",
     "text": [
      " 26%|██▌       | 654/2500 [00:30<01:26, 21.32it/s]\u001b[A\n",
      "  2%|▏         | 49/2500 [00:53<01:51, 21.90it/s] \n"
     ]
    },
    {
     "name": "stdout",
     "output_type": "stream",
     "text": [
      "{'loss': 0.0316, 'grad_norm': 0.0028693396598100662, 'learning_rate': 3.6290322580645165e-05, 'epoch': 5.6}\n"
     ]
    },
    {
     "name": "stderr",
     "output_type": "stream",
     "text": [
      " 28%|██▊       | 705/2500 [00:33<01:23, 21.61it/s]\u001b[A\n",
      "  2%|▏         | 49/2500 [00:55<01:51, 21.90it/s] "
     ]
    },
    {
     "name": "stdout",
     "output_type": "stream",
     "text": [
      "{'loss': 0.0123, 'grad_norm': 0.00028128098347224295, 'learning_rate': 3.528225806451613e-05, 'epoch': 6.0}\n"
     ]
    },
    {
     "name": "stderr",
     "output_type": "stream",
     "text": [
      "\n",
      "  2%|▏         | 49/2500 [00:57<01:51, 21.90it/s] "
     ]
    },
    {
     "name": "stdout",
     "output_type": "stream",
     "text": [
      "{'loss': 0.0147, 'grad_norm': 0.0032579111866652966, 'learning_rate': 3.427419354838709e-05, 'epoch': 6.4}\n"
     ]
    },
    {
     "name": "stderr",
     "output_type": "stream",
     "text": [
      "\n",
      "  2%|▏         | 49/2500 [00:59<01:51, 21.90it/s] "
     ]
    },
    {
     "name": "stdout",
     "output_type": "stream",
     "text": [
      "{'loss': 0.0275, 'grad_norm': 0.0025696689262986183, 'learning_rate': 3.3266129032258067e-05, 'epoch': 6.8}\n"
     ]
    },
    {
     "name": "stderr",
     "output_type": "stream",
     "text": [
      "\n",
      "  2%|▏         | 49/2500 [01:02<01:51, 21.90it/s] "
     ]
    },
    {
     "name": "stdout",
     "output_type": "stream",
     "text": [
      "{'loss': 0.0001, 'grad_norm': 0.00036728085251525044, 'learning_rate': 3.2258064516129034e-05, 'epoch': 7.2}\n"
     ]
    },
    {
     "name": "stderr",
     "output_type": "stream",
     "text": [
      "\n",
      "  2%|▏         | 49/2500 [01:04<01:51, 21.90it/s] "
     ]
    },
    {
     "name": "stdout",
     "output_type": "stream",
     "text": [
      "{'loss': 0.0119, 'grad_norm': 0.009970670565962791, 'learning_rate': 3.125e-05, 'epoch': 7.6}\n"
     ]
    },
    {
     "name": "stderr",
     "output_type": "stream",
     "text": [
      "\n",
      "  2%|▏         | 49/2500 [01:06<01:51, 21.90it/s] Checkpoint destination directory results\\checkpoint-1000 already exists and is non-empty. Saving will proceed but saved results may be invalid.\n"
     ]
    },
    {
     "name": "stdout",
     "output_type": "stream",
     "text": [
      "{'loss': 0.0196, 'grad_norm': 0.0007952252053655684, 'learning_rate': 3.024193548387097e-05, 'epoch': 8.0}\n"
     ]
    },
    {
     "name": "stderr",
     "output_type": "stream",
     "text": [
      "\n",
      "  2%|▏         | 49/2500 [01:09<01:51, 21.90it/s]  "
     ]
    },
    {
     "name": "stdout",
     "output_type": "stream",
     "text": [
      "{'loss': 0.0393, 'grad_norm': 0.0025467376690357924, 'learning_rate': 2.9233870967741938e-05, 'epoch': 8.4}\n"
     ]
    },
    {
     "name": "stderr",
     "output_type": "stream",
     "text": [
      "\n",
      "  2%|▏         | 49/2500 [01:12<01:51, 21.90it/s]  "
     ]
    },
    {
     "name": "stdout",
     "output_type": "stream",
     "text": [
      "{'loss': 0.0001, 'grad_norm': 0.00027780316304415464, 'learning_rate': 2.822580645161291e-05, 'epoch': 8.8}\n"
     ]
    },
    {
     "name": "stderr",
     "output_type": "stream",
     "text": [
      "\n",
      "  2%|▏         | 49/2500 [01:14<01:51, 21.90it/s]  "
     ]
    },
    {
     "name": "stdout",
     "output_type": "stream",
     "text": [
      "{'loss': 0.0001, 'grad_norm': 0.00044197842362336814, 'learning_rate': 2.721774193548387e-05, 'epoch': 9.2}\n"
     ]
    },
    {
     "name": "stderr",
     "output_type": "stream",
     "text": [
      "\n",
      "  2%|▏         | 49/2500 [01:16<01:51, 21.90it/s]  "
     ]
    },
    {
     "name": "stdout",
     "output_type": "stream",
     "text": [
      "{'loss': 0.0, 'grad_norm': 0.0006331098265945911, 'learning_rate': 2.620967741935484e-05, 'epoch': 9.6}\n"
     ]
    },
    {
     "name": "stderr",
     "output_type": "stream",
     "text": [
      "\n",
      "  2%|▏         | 49/2500 [01:19<01:51, 21.90it/s]  "
     ]
    },
    {
     "name": "stdout",
     "output_type": "stream",
     "text": [
      "{'loss': 0.0365, 'grad_norm': 0.0001315676054218784, 'learning_rate': 2.5201612903225806e-05, 'epoch': 10.0}\n"
     ]
    },
    {
     "name": "stderr",
     "output_type": "stream",
     "text": [
      "\n",
      "  2%|▏         | 49/2500 [01:21<01:51, 21.90it/s]  "
     ]
    },
    {
     "name": "stdout",
     "output_type": "stream",
     "text": [
      "{'loss': 0.0, 'grad_norm': 0.004013970494270325, 'learning_rate': 2.4193548387096777e-05, 'epoch': 10.4}\n"
     ]
    },
    {
     "name": "stderr",
     "output_type": "stream",
     "text": [
      "\n",
      "  2%|▏         | 49/2500 [01:23<01:51, 21.90it/s]  "
     ]
    },
    {
     "name": "stdout",
     "output_type": "stream",
     "text": [
      "{'loss': 0.0, 'grad_norm': 0.026733221486210823, 'learning_rate': 2.318548387096774e-05, 'epoch': 10.8}\n"
     ]
    },
    {
     "name": "stderr",
     "output_type": "stream",
     "text": [
      "\n",
      "  2%|▏         | 49/2500 [01:25<01:51, 21.90it/s]  "
     ]
    },
    {
     "name": "stdout",
     "output_type": "stream",
     "text": [
      "{'loss': 0.0003, 'grad_norm': 0.00014522195851895958, 'learning_rate': 2.217741935483871e-05, 'epoch': 11.2}\n"
     ]
    },
    {
     "name": "stderr",
     "output_type": "stream",
     "text": [
      "\n",
      "  2%|▏         | 49/2500 [01:28<01:51, 21.90it/s]  "
     ]
    },
    {
     "name": "stdout",
     "output_type": "stream",
     "text": [
      "{'loss': 0.0018, 'grad_norm': 81.61238098144531, 'learning_rate': 2.1169354838709678e-05, 'epoch': 11.6}\n"
     ]
    },
    {
     "name": "stderr",
     "output_type": "stream",
     "text": [
      "\n",
      "  2%|▏         | 49/2500 [01:30<01:51, 21.90it/s]  Checkpoint destination directory results\\checkpoint-1500 already exists and is non-empty. Saving will proceed but saved results may be invalid.\n"
     ]
    },
    {
     "name": "stdout",
     "output_type": "stream",
     "text": [
      "{'loss': 0.0, 'grad_norm': 0.022311076521873474, 'learning_rate': 2.0161290322580645e-05, 'epoch': 12.0}\n"
     ]
    },
    {
     "name": "stderr",
     "output_type": "stream",
     "text": [
      "\n",
      "  2%|▏         | 49/2500 [01:33<01:51, 21.90it/s]  "
     ]
    },
    {
     "name": "stdout",
     "output_type": "stream",
     "text": [
      "{'loss': 0.0, 'grad_norm': 0.0005521687562577426, 'learning_rate': 1.9153225806451612e-05, 'epoch': 12.4}\n"
     ]
    },
    {
     "name": "stderr",
     "output_type": "stream",
     "text": [
      "\n",
      "  2%|▏         | 49/2500 [01:35<01:51, 21.90it/s]  "
     ]
    },
    {
     "name": "stdout",
     "output_type": "stream",
     "text": [
      "{'loss': 0.0, 'grad_norm': 0.0016699850093573332, 'learning_rate': 1.8145161290322583e-05, 'epoch': 12.8}\n"
     ]
    },
    {
     "name": "stderr",
     "output_type": "stream",
     "text": [
      "\n",
      "  2%|▏         | 49/2500 [01:38<01:51, 21.90it/s]  "
     ]
    },
    {
     "name": "stdout",
     "output_type": "stream",
     "text": [
      "{'loss': 0.0, 'grad_norm': 0.00048458355013281107, 'learning_rate': 1.7137096774193546e-05, 'epoch': 13.2}\n"
     ]
    },
    {
     "name": "stderr",
     "output_type": "stream",
     "text": [
      "\n",
      "  2%|▏         | 49/2500 [01:40<01:51, 21.90it/s]  "
     ]
    },
    {
     "name": "stdout",
     "output_type": "stream",
     "text": [
      "{'loss': 0.0261, 'grad_norm': 0.00018537002324592322, 'learning_rate': 1.6129032258064517e-05, 'epoch': 13.6}\n"
     ]
    },
    {
     "name": "stderr",
     "output_type": "stream",
     "text": [
      "\n",
      "  2%|▏         | 49/2500 [01:42<01:51, 21.90it/s]  "
     ]
    },
    {
     "name": "stdout",
     "output_type": "stream",
     "text": [
      "{'loss': 0.0, 'grad_norm': 1.931329461513087e-05, 'learning_rate': 1.5120967741935486e-05, 'epoch': 14.0}\n"
     ]
    },
    {
     "name": "stderr",
     "output_type": "stream",
     "text": [
      "\n",
      "  2%|▏         | 49/2500 [01:45<01:51, 21.90it/s]  "
     ]
    },
    {
     "name": "stdout",
     "output_type": "stream",
     "text": [
      "{'loss': 0.0, 'grad_norm': 7.30494866729714e-05, 'learning_rate': 1.4112903225806454e-05, 'epoch': 14.4}\n"
     ]
    },
    {
     "name": "stderr",
     "output_type": "stream",
     "text": [
      "\n",
      "  2%|▏         | 49/2500 [01:47<01:51, 21.90it/s]  "
     ]
    },
    {
     "name": "stdout",
     "output_type": "stream",
     "text": [
      "{'loss': 0.0, 'grad_norm': 0.0001450016425224021, 'learning_rate': 1.310483870967742e-05, 'epoch': 14.8}\n"
     ]
    },
    {
     "name": "stderr",
     "output_type": "stream",
     "text": [
      "\n",
      "  2%|▏         | 49/2500 [01:49<01:51, 21.90it/s]  "
     ]
    },
    {
     "name": "stdout",
     "output_type": "stream",
     "text": [
      "{'loss': 0.0, 'grad_norm': 4.375377102405764e-06, 'learning_rate': 1.2096774193548388e-05, 'epoch': 15.2}\n"
     ]
    },
    {
     "name": "stderr",
     "output_type": "stream",
     "text": [
      "\n",
      "  2%|▏         | 49/2500 [01:51<01:51, 21.90it/s]  "
     ]
    },
    {
     "name": "stdout",
     "output_type": "stream",
     "text": [
      "{'loss': 0.0, 'grad_norm': 0.0003901567542925477, 'learning_rate': 1.1088709677419356e-05, 'epoch': 15.6}\n"
     ]
    },
    {
     "name": "stderr",
     "output_type": "stream",
     "text": [
      "\n",
      "  2%|▏         | 49/2500 [01:54<01:51, 21.90it/s]  Checkpoint destination directory results\\checkpoint-2000 already exists and is non-empty. Saving will proceed but saved results may be invalid.\n"
     ]
    },
    {
     "name": "stdout",
     "output_type": "stream",
     "text": [
      "{'loss': 0.0, 'grad_norm': 5.567675907514058e-05, 'learning_rate': 1.0080645161290323e-05, 'epoch': 16.0}\n"
     ]
    },
    {
     "name": "stderr",
     "output_type": "stream",
     "text": [
      "\n",
      "  2%|▏         | 49/2500 [01:57<01:51, 21.90it/s]  \n"
     ]
    },
    {
     "name": "stdout",
     "output_type": "stream",
     "text": [
      "{'loss': 0.0, 'grad_norm': 2.558498272264842e-05, 'learning_rate': 9.072580645161291e-06, 'epoch': 16.4}\n"
     ]
    },
    {
     "name": "stderr",
     "output_type": "stream",
     "text": [
      " 82%|████████▏ | 2054/2500 [01:37<00:22, 19.53it/s]\u001b[A\n",
      "  2%|▏         | 49/2500 [01:59<01:51, 21.90it/s]  "
     ]
    },
    {
     "name": "stdout",
     "output_type": "stream",
     "text": [
      "{'loss': 0.0, 'grad_norm': 0.00027817286900244653, 'learning_rate': 8.064516129032258e-06, 'epoch': 16.8}\n"
     ]
    },
    {
     "name": "stderr",
     "output_type": "stream",
     "text": [
      "\n",
      "  2%|▏         | 49/2500 [02:02<01:51, 21.90it/s]  "
     ]
    },
    {
     "name": "stdout",
     "output_type": "stream",
     "text": [
      "{'loss': 0.0, 'grad_norm': 1.7993943401961587e-05, 'learning_rate': 7.056451612903227e-06, 'epoch': 17.2}\n"
     ]
    },
    {
     "name": "stderr",
     "output_type": "stream",
     "text": [
      "\n",
      "  2%|▏         | 49/2500 [02:04<01:51, 21.90it/s]  "
     ]
    },
    {
     "name": "stdout",
     "output_type": "stream",
     "text": [
      "{'loss': 0.0, 'grad_norm': 8.86560810613446e-05, 'learning_rate': 6.048387096774194e-06, 'epoch': 17.6}\n"
     ]
    },
    {
     "name": "stderr",
     "output_type": "stream",
     "text": [
      "\n",
      "  2%|▏         | 49/2500 [02:07<01:51, 21.90it/s]  "
     ]
    },
    {
     "name": "stdout",
     "output_type": "stream",
     "text": [
      "{'loss': 0.0, 'grad_norm': 4.182533302810043e-05, 'learning_rate': 5.040322580645161e-06, 'epoch': 18.0}\n"
     ]
    },
    {
     "name": "stderr",
     "output_type": "stream",
     "text": [
      "\n",
      "  2%|▏         | 49/2500 [02:09<01:51, 21.90it/s]  "
     ]
    },
    {
     "name": "stdout",
     "output_type": "stream",
     "text": [
      "{'loss': 0.0, 'grad_norm': 0.004428461659699678, 'learning_rate': 4.032258064516129e-06, 'epoch': 18.4}\n"
     ]
    },
    {
     "name": "stderr",
     "output_type": "stream",
     "text": [
      "\n",
      "  2%|▏         | 49/2500 [02:11<01:51, 21.90it/s]  "
     ]
    },
    {
     "name": "stdout",
     "output_type": "stream",
     "text": [
      "{'loss': 0.0, 'grad_norm': 2.5491092401352944e-06, 'learning_rate': 3.024193548387097e-06, 'epoch': 18.8}\n"
     ]
    },
    {
     "name": "stderr",
     "output_type": "stream",
     "text": [
      "\n",
      "  2%|▏         | 49/2500 [02:14<01:51, 21.90it/s]  "
     ]
    },
    {
     "name": "stdout",
     "output_type": "stream",
     "text": [
      "{'loss': 0.0, 'grad_norm': 0.00010060335625894368, 'learning_rate': 2.0161290322580646e-06, 'epoch': 19.2}\n"
     ]
    },
    {
     "name": "stderr",
     "output_type": "stream",
     "text": [
      "\n",
      "  2%|▏         | 49/2500 [02:16<01:51, 21.90it/s]  "
     ]
    },
    {
     "name": "stdout",
     "output_type": "stream",
     "text": [
      "{'loss': 0.0, 'grad_norm': 5.4986481700325385e-05, 'learning_rate': 1.0080645161290323e-06, 'epoch': 19.6}\n"
     ]
    },
    {
     "name": "stderr",
     "output_type": "stream",
     "text": [
      "\n",
      "  2%|▏         | 49/2500 [02:18<01:51, 21.90it/s]  Checkpoint destination directory results\\checkpoint-2500 already exists and is non-empty. Saving will proceed but saved results may be invalid.\n"
     ]
    },
    {
     "name": "stdout",
     "output_type": "stream",
     "text": [
      "{'loss': 0.0, 'grad_norm': 0.028264660388231277, 'learning_rate': 0.0, 'epoch': 20.0}\n"
     ]
    },
    {
     "name": "stderr",
     "output_type": "stream",
     "text": [
      "\n",
      "100%|██████████| 2500/2500 [01:59<00:00, 20.93it/s]"
     ]
    },
    {
     "name": "stdout",
     "output_type": "stream",
     "text": [
      "{'train_runtime': 119.4574, 'train_samples_per_second': 167.424, 'train_steps_per_second': 20.928, 'train_loss': 0.1035015743244323, 'epoch': 20.0}\n"
     ]
    },
    {
     "name": "stderr",
     "output_type": "stream",
     "text": [
      "\n"
     ]
    },
    {
     "data": {
      "text/plain": [
       "TrainOutput(global_step=2500, training_loss=0.1035015743244323, metrics={'train_runtime': 119.4574, 'train_samples_per_second': 167.424, 'train_steps_per_second': 20.928, 'train_loss': 0.1035015743244323, 'epoch': 20.0})"
      ]
     },
     "execution_count": 128,
     "metadata": {},
     "output_type": "execute_result"
    }
   ],
   "source": [
    "\n",
    "training_args = TrainingArguments(\n",
    "    output_dir='results',          # output directory\n",
    "    overwrite_output_dir=True,\n",
    "    num_train_epochs=20,              # total number of training epochs\n",
    "    per_device_train_batch_size=8,  # batch size per device during training\n",
    "    per_device_eval_batch_size=8,   # batch size for evaluation\n",
    "    warmup_steps=20,                # number of warmup steps for learning rate scheduler\n",
    "    weight_decay=0.01,               # strength of weight decay\n",
    "    logging_dir=\"E:/Question Answering/QA/tb_logs\",            # directory for storing logs\n",
    "    logging_steps=50,\n",
    ")\n",
    "\n",
    "trainer = Trainer(\n",
    "    model=pytorch_model,                 # the instantiated 🤗 Transformers model to be trained\n",
    "    args=training_args,                  # training arguments, defined above\n",
    "    train_dataset=train_ds,         # training dataset\n",
    "    eval_dataset=test_ds,\n",
    "    compute_metrics=compute_metrics             # evaluation dataset\n",
    ")\n",
    "\n",
    "trainer.train()"
   ]
  },
  {
   "cell_type": "code",
   "execution_count": 129,
   "metadata": {},
   "outputs": [
    {
     "data": {
      "image/png": "[encoded data removed]",
      "text/plain": [
       "<Figure size 640x480 with 1 Axes>"
      ]
     },
     "metadata": {},
     "output_type": "display_data"
    }
   ],
   "source": [
    "import matplotlib.pyplot as plt\n",
    "\n",
    "log_history = trainer.state.log_history\n",
    "loss_values = [entry['loss'] for entry in log_history if 'loss' in entry]\n",
    "\n",
    "# Plot the training loss\n",
    "plt.plot(loss_values)\n",
    "plt.title('Training loss')\n",
    "plt.xlabel('Logging step')\n",
    "plt.ylabel('Loss')\n",
    "plt.show()"
   ]
  },
  {
   "cell_type": "code",
   "execution_count": 130,
   "metadata": {},
   "outputs": [
    {
     "name": "stderr",
     "output_type": "stream",
     "text": [
      "100%|██████████| 125/125 [00:01<00:00, 81.09it/s]\n"
     ]
    },
    {
     "data": {
      "text/plain": [
       "{'eval_loss': 6.115422479524568e-07,\n",
       " 'eval_f1_start': 1.0,\n",
       " 'eval_f1_end': 1.0,\n",
       " 'eval_accuracy_start': 1.0,\n",
       " 'eval_accuracy_end': 1.0,\n",
       " 'eval_runtime': 1.6849,\n",
       " 'eval_samples_per_second': 593.515,\n",
       " 'eval_steps_per_second': 74.189,\n",
       " 'epoch': 20.0}"
      ]
     },
     "execution_count": 130,
     "metadata": {},
     "output_type": "execute_result"
    }
   ],
   "source": [
    "trainer.evaluate(test_ds)"
   ]
  },
  {
   "cell_type": "code",
   "execution_count": 83,
   "metadata": {},
   "outputs": [
    {
     "name": "stdout",
     "output_type": "stream",
     "text": [
      "What is east of the hallway? Kitchen\n"
     ]
    }
   ],
   "source": [
    "import torch\n",
    "\n",
    "device = torch.device('cuda') if torch.cuda.is_available() else torch.device('cpu')\n",
    "\n",
    "pytorch_model.to(device)\n",
    "\n",
    "question, text = 'What is east of the hallway?','The kitchen is east of the hallway. The garden is south of the bedroom.'\n",
    "\n",
    "input_dict = tokenizer(text, question, return_tensors='pt')\n",
    "\n",
    "input_ids = input_dict['input_ids'].to(device)\n",
    "attention_mask = input_dict['attention_mask'].to(device)\n",
    "\n",
    "outputs = pytorch_model(input_ids, attention_mask=attention_mask)\n",
    "\n",
    "start_logits = outputs[0]\n",
    "end_logits = outputs[1]\n",
    "\n",
    "all_tokens = tokenizer.convert_ids_to_tokens(input_dict[\"input_ids\"].numpy()[0])\n",
    "answer = ' '.join(all_tokens[torch.argmax(start_logits, 1)[0] : torch.argmax(end_logits, 1)[0]+1])\n",
    "\n",
    "print(question, answer.capitalize())"
   ]
  },
  {
   "cell_type": "code",
   "execution_count": null,
   "metadata": {},
   "outputs": [
    {
     "data": {
      "text/plain": [
       "device(type='cuda', index=0)"
      ]
     },
     "execution_count": 39,
     "metadata": {},
     "output_type": "execute_result"
    }
   ],
   "source": [
    "import torch\n",
    "torch.device(\"cuda:0\" if torch.cuda.is_available() else \"cpu\")"
   ]
  },
  {
   "cell_type": "code",
   "execution_count": null,
   "metadata": {},
   "outputs": [
    {
     "name": "stdout",
     "output_type": "stream",
     "text": [
      "Please install GPU version of TF\n"
     ]
    }
   ],
   "source": [
    "import tensorflow as tf\n",
    "if tf.test.gpu_device_name():\n",
    "    print('Default GPU Device: {}'.format(tf.test.gpu_device_name()))\n",
    "else:\n",
    "    print(\"Please install GPU version of TF\")"
   ]
  }
 ],
 "metadata": {
  "kernelspec": {
   "display_name": "venv",
   "language": "python",
   "name": "python3"
  },
  "language_info": {
   "codemirror_mode": {
    "name": "ipython",
    "version": 3
   },
   "file_extension": ".py",
   "mimetype": "text/x-python",
   "name": "python",
   "nbconvert_exporter": "python",
   "pygments_lexer": "ipython3",
   "version": "3.10.13"
  }
 },
 "nbformat": 4,
 "nbformat_minor": 2
}
